{
 "cells": [
  {
   "cell_type": "markdown",
   "metadata": {
    "papermill": {
     "duration": 0.017774,
     "end_time": "2021-04-25T17:44:28.729393",
     "exception": false,
     "start_time": "2021-04-25T17:44:28.711619",
     "status": "completed"
    },
    "tags": []
   },
   "source": [
    "# Using BERT, LSTM & CNN to Identify Real Disaster Tweets\n",
    "This notebook will attempt to use Long-Short Term Memory and Convolutional Neural Net layers inside a tensorflow neural network to identify real and fake tweets related to disasters. \n",
    "\n",
    "We begin by working on data extraction, cleaning and analysis. Then we build the neural network, before fitting our data inside it for testing and validation. Finally, we run the model to predict the test.csv provided. \n",
    "\n",
    "Let's begin by importing dependencies and taking a look at the train.csv file."
   ]
  },
  {
   "cell_type": "code",
   "execution_count": 1,
   "metadata": {
    "execution": {
     "iopub.execute_input": "2021-04-25T17:44:28.767725Z",
     "iopub.status.busy": "2021-04-25T17:44:28.766931Z",
     "iopub.status.idle": "2021-04-25T17:44:42.325739Z",
     "shell.execute_reply": "2021-04-25T17:44:42.324720Z"
    },
    "papermill": {
     "duration": 13.579784,
     "end_time": "2021-04-25T17:44:42.325853",
     "exception": false,
     "start_time": "2021-04-25T17:44:28.746069",
     "status": "completed"
    },
    "tags": []
   },
   "outputs": [
    {
     "name": "stdout",
     "output_type": "stream",
     "text": [
      "Collecting bert-for-tf2\r\n",
      "  Downloading bert-for-tf2-0.14.9.tar.gz (41 kB)\r\n",
      "\u001b[K     |████████████████████████████████| 41 kB 122 kB/s \r\n",
      "\u001b[?25hCollecting py-params>=0.9.6\r\n",
      "  Downloading py-params-0.10.2.tar.gz (7.4 kB)\r\n",
      "Collecting params-flow>=0.8.0\r\n",
      "  Downloading params-flow-0.8.2.tar.gz (22 kB)\r\n",
      "Requirement already satisfied: numpy in /opt/conda/lib/python3.7/site-packages (from params-flow>=0.8.0->bert-for-tf2) (1.18.5)\r\n",
      "Requirement already satisfied: tqdm in /opt/conda/lib/python3.7/site-packages (from params-flow>=0.8.0->bert-for-tf2) (4.45.0)\r\n",
      "Building wheels for collected packages: bert-for-tf2, py-params, params-flow\r\n",
      "  Building wheel for bert-for-tf2 (setup.py) ... \u001b[?25l-\b \b\\\b \bdone\r\n",
      "\u001b[?25h  Created wheel for bert-for-tf2: filename=bert_for_tf2-0.14.9-py3-none-any.whl size=30534 sha256=bf0fa807200653b397c1f0e577ff8882bfc065edb0b28b2ef7d4df4b9b819de4\r\n",
      "  Stored in directory: /root/.cache/pip/wheels/47/b6/e5/8c76ec779f54bc5c2f1b57d2200bb9c77616da83873e8acb53\r\n",
      "  Building wheel for py-params (setup.py) ... \u001b[?25l-\b \bdone\r\n",
      "\u001b[?25h  Created wheel for py-params: filename=py_params-0.10.2-py3-none-any.whl size=7912 sha256=5bac4e19e5172292633bf1b160f61355f2e09149381c275e02d6696c6e08b474\r\n",
      "  Stored in directory: /root/.cache/pip/wheels/e1/11/67/33cc51bbee127cb8fb2ba549cd29109b2f22da43ddf9969716\r\n",
      "  Building wheel for params-flow (setup.py) ... \u001b[?25l-\b \bdone\r\n",
      "\u001b[?25h  Created wheel for params-flow: filename=params_flow-0.8.2-py3-none-any.whl size=19473 sha256=5c0d432d5d72395754f46c6663ff00bea30968ae3848779cdce7213e6b53d5f0\r\n",
      "  Stored in directory: /root/.cache/pip/wheels/0e/fc/d2/a44fff33af0f233d7def6e7de413006d57c10e10ad736fe8f5\r\n",
      "Successfully built bert-for-tf2 py-params params-flow\r\n",
      "Installing collected packages: py-params, params-flow, bert-for-tf2\r\n",
      "Successfully installed bert-for-tf2-0.14.9 params-flow-0.8.2 py-params-0.10.2\r\n",
      "\u001b[33mWARNING: You are using pip version 20.2.1; however, version 21.1 is available.\r\n",
      "You should consider upgrading via the '/opt/conda/bin/python3.7 -m pip install --upgrade pip' command.\u001b[0m\r\n"
     ]
    }
   ],
   "source": [
    "# Some pip install for BERT\n",
    "!pip install bert-for-tf2"
   ]
  },
  {
   "cell_type": "code",
   "execution_count": 2,
   "metadata": {
    "_cell_guid": "b1076dfc-b9ad-4769-8c92-a6c4dae69d19",
    "_uuid": "8f2839f25d086af736a60e9eeb907d3b93b6e0e5",
    "execution": {
     "iopub.execute_input": "2021-04-25T17:44:42.376218Z",
     "iopub.status.busy": "2021-04-25T17:44:42.375452Z",
     "iopub.status.idle": "2021-04-25T17:44:49.240281Z",
     "shell.execute_reply": "2021-04-25T17:44:49.239789Z"
    },
    "papermill": {
     "duration": 6.891856,
     "end_time": "2021-04-25T17:44:49.240396",
     "exception": false,
     "start_time": "2021-04-25T17:44:42.348540",
     "status": "completed"
    },
    "tags": []
   },
   "outputs": [
    {
     "name": "stderr",
     "output_type": "stream",
     "text": [
      "/opt/conda/lib/python3.7/site-packages/nltk/twitter/__init__.py:20: UserWarning: The twython library has not been installed. Some functionality from the twitter package will not be available.\n",
      "  warnings.warn(\"The twython library has not been installed. \"\n"
     ]
    }
   ],
   "source": [
    "# Import all dependencies to be used\n",
    "\n",
    "import numpy as np # linear algebra\n",
    "import pandas as pd # data processing, CSV file I/O (e.g. pd.read_csv)\n",
    "import tensorflow as tf # machine learning and neural nets\n",
    "import tensorflow_datasets as tfds # for text preprocessing\n",
    "import tensorflow_hub as hub\n",
    "import bert\n",
    "from nltk.sentiment.vader import SentimentIntensityAnalyzer # NLTK class object for determining sentiment of text"
   ]
  },
  {
   "cell_type": "code",
   "execution_count": 3,
   "metadata": {
    "_cell_guid": "79c7e3d0-c299-4dcb-8224-4455121ee9b0",
    "_uuid": "d629ff2d2480ee46fbb7e2d37f6b5fab8052498a",
    "execution": {
     "iopub.execute_input": "2021-04-25T17:44:49.304305Z",
     "iopub.status.busy": "2021-04-25T17:44:49.303711Z",
     "iopub.status.idle": "2021-04-25T17:44:49.360969Z",
     "shell.execute_reply": "2021-04-25T17:44:49.360550Z"
    },
    "papermill": {
     "duration": 0.094283,
     "end_time": "2021-04-25T17:44:49.361060",
     "exception": false,
     "start_time": "2021-04-25T17:44:49.266777",
     "status": "completed"
    },
    "tags": []
   },
   "outputs": [
    {
     "data": {
      "text/html": [
       "<div>\n",
       "<style scoped>\n",
       "    .dataframe tbody tr th:only-of-type {\n",
       "        vertical-align: middle;\n",
       "    }\n",
       "\n",
       "    .dataframe tbody tr th {\n",
       "        vertical-align: top;\n",
       "    }\n",
       "\n",
       "    .dataframe thead th {\n",
       "        text-align: right;\n",
       "    }\n",
       "</style>\n",
       "<table border=\"1\" class=\"dataframe\">\n",
       "  <thead>\n",
       "    <tr style=\"text-align: right;\">\n",
       "      <th></th>\n",
       "      <th>id</th>\n",
       "      <th>keyword</th>\n",
       "      <th>location</th>\n",
       "      <th>text</th>\n",
       "      <th>target</th>\n",
       "    </tr>\n",
       "  </thead>\n",
       "  <tbody>\n",
       "    <tr>\n",
       "      <th>0</th>\n",
       "      <td>1</td>\n",
       "      <td>NaN</td>\n",
       "      <td>NaN</td>\n",
       "      <td>Our Deeds are the Reason of this #earthquake M...</td>\n",
       "      <td>1</td>\n",
       "    </tr>\n",
       "    <tr>\n",
       "      <th>1</th>\n",
       "      <td>4</td>\n",
       "      <td>NaN</td>\n",
       "      <td>NaN</td>\n",
       "      <td>Forest fire near La Ronge Sask. Canada</td>\n",
       "      <td>1</td>\n",
       "    </tr>\n",
       "    <tr>\n",
       "      <th>2</th>\n",
       "      <td>5</td>\n",
       "      <td>NaN</td>\n",
       "      <td>NaN</td>\n",
       "      <td>All residents asked to 'shelter in place' are ...</td>\n",
       "      <td>1</td>\n",
       "    </tr>\n",
       "    <tr>\n",
       "      <th>3</th>\n",
       "      <td>6</td>\n",
       "      <td>NaN</td>\n",
       "      <td>NaN</td>\n",
       "      <td>13,000 people receive #wildfires evacuation or...</td>\n",
       "      <td>1</td>\n",
       "    </tr>\n",
       "    <tr>\n",
       "      <th>4</th>\n",
       "      <td>7</td>\n",
       "      <td>NaN</td>\n",
       "      <td>NaN</td>\n",
       "      <td>Just got sent this photo from Ruby #Alaska as ...</td>\n",
       "      <td>1</td>\n",
       "    </tr>\n",
       "  </tbody>\n",
       "</table>\n",
       "</div>"
      ],
      "text/plain": [
       "   id keyword location                                               text  \\\n",
       "0   1     NaN      NaN  Our Deeds are the Reason of this #earthquake M...   \n",
       "1   4     NaN      NaN             Forest fire near La Ronge Sask. Canada   \n",
       "2   5     NaN      NaN  All residents asked to 'shelter in place' are ...   \n",
       "3   6     NaN      NaN  13,000 people receive #wildfires evacuation or...   \n",
       "4   7     NaN      NaN  Just got sent this photo from Ruby #Alaska as ...   \n",
       "\n",
       "   target  \n",
       "0       1  \n",
       "1       1  \n",
       "2       1  \n",
       "3       1  \n",
       "4       1  "
      ]
     },
     "execution_count": 3,
     "metadata": {},
     "output_type": "execute_result"
    }
   ],
   "source": [
    "# Read in the train.csv into a pandas dataframe and get a look at it\n",
    "df = pd.read_csv('../input/nlp-getting-started/train.csv')\n",
    "df.head()"
   ]
  },
  {
   "cell_type": "code",
   "execution_count": 4,
   "metadata": {
    "execution": {
     "iopub.execute_input": "2021-04-25T17:44:49.413250Z",
     "iopub.status.busy": "2021-04-25T17:44:49.412732Z",
     "iopub.status.idle": "2021-04-25T17:44:49.425075Z",
     "shell.execute_reply": "2021-04-25T17:44:49.425621Z"
    },
    "papermill": {
     "duration": 0.042003,
     "end_time": "2021-04-25T17:44:49.425735",
     "exception": false,
     "start_time": "2021-04-25T17:44:49.383732",
     "status": "completed"
    },
    "tags": []
   },
   "outputs": [
    {
     "name": "stdout",
     "output_type": "stream",
     "text": [
      "<class 'pandas.core.frame.DataFrame'>\n",
      "RangeIndex: 7613 entries, 0 to 7612\n",
      "Data columns (total 5 columns):\n",
      " #   Column    Non-Null Count  Dtype \n",
      "---  ------    --------------  ----- \n",
      " 0   id        7613 non-null   int64 \n",
      " 1   keyword   7552 non-null   object\n",
      " 2   location  5080 non-null   object\n",
      " 3   text      7613 non-null   object\n",
      " 4   target    7613 non-null   int64 \n",
      "dtypes: int64(2), object(3)\n",
      "memory usage: 297.5+ KB\n",
      "None\n"
     ]
    }
   ],
   "source": [
    "# Check the description and information relevant from the train.csv dataframe\n",
    "print(df.info())"
   ]
  },
  {
   "cell_type": "markdown",
   "metadata": {
    "papermill": {
     "duration": 0.022728,
     "end_time": "2021-04-25T17:44:49.472682",
     "exception": false,
     "start_time": "2021-04-25T17:44:49.449954",
     "status": "completed"
    },
    "tags": []
   },
   "source": [
    "# Text Cleaning and BERT Prep\n",
    "Since the release of BERT, machine learning for natural language processing has been significantly altered. Providing the strongest set of multidimensional embeddings for words, BERT is a key piece of any successful machine learning model. We will use BERT below to load the pretrained embeddings for our vocabulary. \n",
    "\n",
    "We'll start by cleaning the text and removing hashtags, links, mentions, linebreaks and leading or trailing spaces."
   ]
  },
  {
   "cell_type": "code",
   "execution_count": 5,
   "metadata": {
    "execution": {
     "iopub.execute_input": "2021-04-25T17:44:49.525609Z",
     "iopub.status.busy": "2021-04-25T17:44:49.524789Z",
     "iopub.status.idle": "2021-04-25T17:44:49.529860Z",
     "shell.execute_reply": "2021-04-25T17:44:49.530594Z"
    },
    "papermill": {
     "duration": 0.035176,
     "end_time": "2021-04-25T17:44:49.530729",
     "exception": false,
     "start_time": "2021-04-25T17:44:49.495553",
     "status": "completed"
    },
    "tags": []
   },
   "outputs": [
    {
     "name": "stdout",
     "output_type": "stream",
     "text": [
      "Starting text: @Rhee1975 @deliciousvomit No I'm not I'm saying that they're lucky they can go home to their families not put in a body bag\n",
      "Cleaned text:  No I'm not I'm saying that they're lucky they can go home to their families not put in a body bag\n"
     ]
    }
   ],
   "source": [
    "# Import dependency for string cleaning\n",
    "import re\n",
    "\n",
    "# Grab a sample string for display purposes\n",
    "text_str = df.loc[984,'text']\n",
    "\n",
    "def clean_text(text):\n",
    "    '''\n",
    "    Function to clean text and remove unnecessary components and ease tokenization.\n",
    "    :param: text: the string to be cleaned\n",
    "    :output: text: the cleaned string\n",
    "    '''\n",
    "    text = re.sub(r'https?://\\S+', '', text) # remove link\n",
    "    text = re.sub(r'#\\w+', '', text) # remove hashtags\n",
    "    text = re.sub(r'@\\w+', '', text) # remove mentions\n",
    "    text = re.sub(r'\\n', ' ', text) # remove linebreaks\n",
    "    text = re.sub(r'\\s+', ' ', text) # remove leading and trailing spaces\n",
    "    return text\n",
    "\n",
    "# Show the cleaned version of the sample text\n",
    "print(f'Starting text: {text_str}')\n",
    "print(f'Cleaned text: {clean_text(text_str)}')\n",
    "    "
   ]
  },
  {
   "cell_type": "markdown",
   "metadata": {
    "papermill": {
     "duration": 0.023327,
     "end_time": "2021-04-25T17:44:49.577718",
     "exception": false,
     "start_time": "2021-04-25T17:44:49.554391",
     "status": "completed"
    },
    "tags": []
   },
   "source": [
    "With the text cleaner ready to go, we'll move onto to BERT encoding. \n",
    "\n",
    "BERT uses three key inputs when embedding tokens, so we'll need to prepare all three at this stage in a function. \n",
    "* **tokens** - the tokens from the BERT tokenizer, which must begin with token 101 for CLS and token 102 for SEP\n",
    "* **masks** - used to show the BERT embedding what is the regular text and what was padded onto it\n",
    "* **segment_ids** - used during embedding, will remain empty at this stage. They need to be passed in during embedding, so we need to include it here."
   ]
  },
  {
   "cell_type": "code",
   "execution_count": 6,
   "metadata": {
    "execution": {
     "iopub.execute_input": "2021-04-25T17:44:49.634114Z",
     "iopub.status.busy": "2021-04-25T17:44:49.633348Z",
     "iopub.status.idle": "2021-04-25T17:44:49.636051Z",
     "shell.execute_reply": "2021-04-25T17:44:49.635650Z"
    },
    "papermill": {
     "duration": 0.035122,
     "end_time": "2021-04-25T17:44:49.636144",
     "exception": false,
     "start_time": "2021-04-25T17:44:49.601022",
     "status": "completed"
    },
    "tags": []
   },
   "outputs": [],
   "source": [
    "def bert_encoding(texts, tokenizer, max_len=512):\n",
    "    '''\n",
    "    Function to encode text into tokens, masks, and segment_ids for BERT embedding layer input.\n",
    "    \n",
    "    :param: texts - the texts to tokenize\n",
    "    :param: tokenizer - the BERT tokenizer that will be used to tokenize the texts\n",
    "    :param: max_len - the maximum length of an input sequence (the sequence of tokens to be embedded)\n",
    "    \n",
    "    :output: all_tokens - the texts turned into tokens and padded for match length, returned as np.array\n",
    "    :output: all_masks - masks for each text denoted sequence length and pad length, returned as np.array\n",
    "    :output: all_segments - segment_ids for each text, all blank, returned as np.array\n",
    "    '''\n",
    "    all_tokens = [] # initiated list for tokens\n",
    "    all_masks = [] # initiated list for masks\n",
    "    all_segments = [] # initiated list for segment_ids\n",
    "    \n",
    "    # Iterate through all texts\n",
    "    for text in texts:\n",
    "        \n",
    "        # Tokenize text\n",
    "        text = tokenizer.tokenize(text)\n",
    "        \n",
    "        # Make room for the CLS and SEP tokens\n",
    "        text = text[:max_len-2]\n",
    "        \n",
    "        # Create the input sequence beginning with [CLS] and ending with [SEP]\n",
    "        input_sequence = [\"[CLS]\"] + text + [\"[SEP]\"]\n",
    "        \n",
    "        # Determine how much padding is required (max_length - length of the input sequence)\n",
    "        pad_len = max_len - len(input_sequence)\n",
    "        \n",
    "        # Create token ids, used by BERT\n",
    "        tokens = tokenizer.convert_tokens_to_ids(input_sequence)\n",
    "        \n",
    "        # Pad the tokens by 0's for the pad length determined above\n",
    "        tokens += [0] * pad_len\n",
    "        \n",
    "        # Create the masks for the sequence, with the 1 for each token id and 0 for all padding\n",
    "        pad_masks = [1] * len(input_sequence) + [0] * pad_len\n",
    "        \n",
    "        # All empty segment_ids for the max length\n",
    "        segment_ids = [0] * max_len\n",
    "        \n",
    "        # Append all tokens, masks, and segment_ids to the initialized lists\n",
    "        all_tokens.append(tokens)\n",
    "        all_masks.append(pad_masks)\n",
    "        all_segments.append(segment_ids)\n",
    "        \n",
    "    return np.array(all_tokens), np.array(all_masks), np.array(all_segments)"
   ]
  },
  {
   "cell_type": "markdown",
   "metadata": {
    "papermill": {
     "duration": 0.023393,
     "end_time": "2021-04-25T17:44:49.682757",
     "exception": false,
     "start_time": "2021-04-25T17:44:49.659364",
     "status": "completed"
    },
    "tags": []
   },
   "source": [
    "Now that BERT encoding is ready as a function, we can proceed to build the BERT Tokenizer that we'll use for the above function, as well as import the BERT layer from Tensorflow Hub. We also import the vocabulary file to preload the BERT tokenizer, and the lower_case function."
   ]
  },
  {
   "cell_type": "code",
   "execution_count": 7,
   "metadata": {
    "execution": {
     "iopub.execute_input": "2021-04-25T17:44:49.734927Z",
     "iopub.status.busy": "2021-04-25T17:44:49.734392Z",
     "iopub.status.idle": "2021-04-25T17:45:06.089476Z",
     "shell.execute_reply": "2021-04-25T17:45:06.088443Z"
    },
    "papermill": {
     "duration": 16.383566,
     "end_time": "2021-04-25T17:45:06.089593",
     "exception": false,
     "start_time": "2021-04-25T17:44:49.706027",
     "status": "completed"
    },
    "tags": []
   },
   "outputs": [
    {
     "data": {
      "text/plain": [
       "['what',\n",
       " 'cool',\n",
       " 'code',\n",
       " ',',\n",
       " 'where',\n",
       " \"'\",\n",
       " 'd',\n",
       " 'ya',\n",
       " 'learn',\n",
       " 'it',\n",
       " 'all',\n",
       " '?']"
      ]
     },
     "execution_count": 7,
     "metadata": {},
     "output_type": "execute_result"
    }
   ],
   "source": [
    "# Initialize the tokenizer\n",
    "BertTokenizer = bert.bert_tokenization.FullTokenizer\n",
    "\n",
    "# Load the BERT layer\n",
    "bert_layer = hub.KerasLayer(\"https://tfhub.dev/tensorflow/bert_en_uncased_L-12_H-768_A-12/1\",\n",
    "                            trainable=False)\n",
    "\n",
    "# Import the vocab files, and the lower case function\n",
    "vocabulary_file = bert_layer.resolved_object.vocab_file.asset_path.numpy()\n",
    "to_lower_case = bert_layer.resolved_object.do_lower_case.numpy()\n",
    "\n",
    "# Load the tokenizer with the preloaded vocab file and lower case function\n",
    "tokenizer = BertTokenizer(vocabulary_file, to_lower_case)\n",
    "\n",
    "# Give a sample of how the tokenizer works\n",
    "tokenizer.tokenize(\"What cool code, where'd ya learn it all?\")"
   ]
  },
  {
   "cell_type": "markdown",
   "metadata": {
    "papermill": {
     "duration": 0.024219,
     "end_time": "2021-04-25T17:45:06.138229",
     "exception": false,
     "start_time": "2021-04-25T17:45:06.114010",
     "status": "completed"
    },
    "tags": []
   },
   "source": [
    "BERT's ready to go, so let's get the data caught up now."
   ]
  },
  {
   "cell_type": "code",
   "execution_count": 8,
   "metadata": {
    "execution": {
     "iopub.execute_input": "2021-04-25T17:45:06.222068Z",
     "iopub.status.busy": "2021-04-25T17:45:06.216875Z",
     "iopub.status.idle": "2021-04-25T17:45:06.300382Z",
     "shell.execute_reply": "2021-04-25T17:45:06.299945Z"
    },
    "papermill": {
     "duration": 0.138282,
     "end_time": "2021-04-25T17:45:06.300485",
     "exception": false,
     "start_time": "2021-04-25T17:45:06.162203",
     "status": "completed"
    },
    "tags": []
   },
   "outputs": [],
   "source": [
    "# Clean the text data\n",
    "df['text_clean'] = df['text'].apply(lambda x: clean_text(x))\n",
    "\n",
    "# Lowercase the text data\n",
    "df['text_lowered'] = df['text_clean'].apply(lambda x: x.lower())\n",
    "\n",
    "# Set targets\n",
    "targets = df['target']"
   ]
  },
  {
   "cell_type": "code",
   "execution_count": 9,
   "metadata": {
    "execution": {
     "iopub.execute_input": "2021-04-25T17:45:06.358717Z",
     "iopub.status.busy": "2021-04-25T17:45:06.358041Z",
     "iopub.status.idle": "2021-04-25T17:45:06.361110Z",
     "shell.execute_reply": "2021-04-25T17:45:06.360673Z"
    },
    "papermill": {
     "duration": 0.036278,
     "end_time": "2021-04-25T17:45:06.361194",
     "exception": false,
     "start_time": "2021-04-25T17:45:06.324916",
     "status": "completed"
    },
    "tags": []
   },
   "outputs": [],
   "source": [
    "# Load dependency for train_test_split function\n",
    "from sklearn.model_selection import train_test_split\n",
    "\n",
    "# Prepare the X and Y train and test datasets\n",
    "X_train,X_test,Y_train,Y_test = train_test_split(list(df['text_lowered']),targets,test_size=0.2,random_state=28)"
   ]
  },
  {
   "cell_type": "code",
   "execution_count": 10,
   "metadata": {
    "execution": {
     "iopub.execute_input": "2021-04-25T17:45:06.437760Z",
     "iopub.status.busy": "2021-04-25T17:45:06.437118Z",
     "iopub.status.idle": "2021-04-25T17:45:09.758894Z",
     "shell.execute_reply": "2021-04-25T17:45:09.758352Z"
    },
    "papermill": {
     "duration": 3.373571,
     "end_time": "2021-04-25T17:45:09.759005",
     "exception": false,
     "start_time": "2021-04-25T17:45:06.385434",
     "status": "completed"
    },
    "tags": []
   },
   "outputs": [],
   "source": [
    "# Finally, run the X train and test (the cleaned and lowered text data) through the BERT encoding function\n",
    "# with the BERT tokenizer we prepped and a max_len parameter chosen by you\n",
    "train_input = bert_encoding(X_train, tokenizer, max_len=100)\n",
    "test_input = bert_encoding(X_test, tokenizer, max_len=100)"
   ]
  },
  {
   "cell_type": "markdown",
   "metadata": {
    "papermill": {
     "duration": 0.02478,
     "end_time": "2021-04-25T17:45:09.808750",
     "exception": false,
     "start_time": "2021-04-25T17:45:09.783970",
     "status": "completed"
    },
    "tags": []
   },
   "source": [
    "# Building the Model and Testing\n",
    "Now that the data is cleaned, the encoding finished, tokens created, we need to build and run the machine learning model itself. Using tensorflow, we'll create a model that begins with a BERT embedding layer and is followed by LSTM and CNN layers. Here's a breakdown of the model:\n",
    "* **Inputs** - there are 3 input layers (input_word_ids,input_mask,segment_ids). These correspond to the outputs of the BERT encoding function, and match the encoded values that the BERT embedding layer requires.\n",
    "* **BERT Embedding** - using the BERT layer we imported from TF hub, we insert the three inputs. It provides both a pooled_output and a sequence_output, but we only need the latter. The former is disgarded (denoted by *_*). We also only need the CLF result which is the first sequence output. \n",
    "* **Reshaping** - since we're using a LSTM and CNN model, we need to have a 3 dimensional input. The BERT output is only 2 dimensional, so we reshape it. \n",
    "* **Long Short Term Memory** - A singular LSTM layer uses 128 units to run the BERT reshaped output. A kernel regularizer limits it to avoid overfitting. It is set to return sequences, so the CNN layer has 3 dimensional input. A dropout layer follows to further reduce overfitting.\n",
    "* **Convolutional Neural Network** - Two Convolutional 1 Dimensional layers are sandwiched by Dropout layers. The first CONV1D layer recognizes 128 patterns with a kernel size of 7. The second recognizes 64 patterns with a kernel of 3. Both feature kernel regularizers to reduce overfitting. Max Pooling follows to select the important patterns. \n",
    "* **Outputs** - The max pooling output is flattened for input to the final dense hidden layer with sigmoid activation. The final model is returned."
   ]
  },
  {
   "cell_type": "code",
   "execution_count": 11,
   "metadata": {
    "execution": {
     "iopub.execute_input": "2021-04-25T17:45:09.872571Z",
     "iopub.status.busy": "2021-04-25T17:45:09.871946Z",
     "iopub.status.idle": "2021-04-25T17:45:09.876096Z",
     "shell.execute_reply": "2021-04-25T17:45:09.875659Z"
    },
    "papermill": {
     "duration": 0.042461,
     "end_time": "2021-04-25T17:45:09.876184",
     "exception": false,
     "start_time": "2021-04-25T17:45:09.833723",
     "status": "completed"
    },
    "tags": []
   },
   "outputs": [],
   "source": [
    "def build_model(bert_layer, max_len=512):\n",
    "    '''\n",
    "    Function to build a tensorflow machine learning neural network model.\n",
    "    \n",
    "    :param: bert_layer - the loaded BERT layer from TF hub\n",
    "    :param: max_len - the maximum length of an input sequence for encoding purposes, used here to denote the input shape\n",
    "    \n",
    "    :output: Model - Tensorflow keras model with inputs and outputs designated\n",
    "    '''\n",
    "    # INPUTS\n",
    "    input_word_ids = tf.keras.Input(shape=(max_len,), dtype=tf.int32, name='input_word_ids')\n",
    "    input_mask = tf.keras.Input(shape=(max_len,), dtype=tf.int32, name='input_mask')\n",
    "    segment_ids = tf.keras.Input(shape=(max_len,), dtype=tf.int32, name='segment_ids')\n",
    "    \n",
    "    # BERT EMBEDDING\n",
    "    _, sequence_output = bert_layer([input_word_ids,input_mask,segment_ids])\n",
    "    clf_output = sequence_output[:, 0, :]\n",
    "    clf_output_ = tf.keras.layers.Reshape((32,24))(clf_output)\n",
    "    \n",
    "    # HIDDEN\n",
    "    hidden = tf.keras.layers.Dense(128,activation='relu')(clf_output)\n",
    "    hidden2 = tf.keras.layers.Dense(64,activation='relu')(hidden)\n",
    "    drop = tf.keras.layers.Dropout(0.1)(hidden2)\n",
    "    \n",
    "    # CHANNEL 2 - LSTM\n",
    "    lstm = tf.keras.layers.Bidirectional(tf.keras.layers.LSTM(128,\n",
    "                                kernel_regularizer=tf.keras.regularizers.L2(0.001),\n",
    "                                                             return_sequences=True))(clf_output_)\n",
    "    drop2 = tf.keras.layers.Dropout(0.1)(lstm)\n",
    "    cnn = tf.keras.layers.Conv1D(64,5,\n",
    "                                kernel_regularizer=tf.keras.regularizers.L2(0.001))(drop2)\n",
    "    max_pool = tf.keras.layers.MaxPooling1D(25)(cnn)\n",
    "    flat = tf.keras.layers.Flatten(data_format='channels_last')(max_pool)\n",
    "    \n",
    "    # OUTPUTS\n",
    "    concat = tf.keras.layers.Concatenate()([drop,flat])\n",
    "    output_target = tf.keras.layers.Dense(1,activation='sigmoid')(concat)\n",
    "    \n",
    "    return tf.keras.Model(inputs=[input_word_ids,input_mask,segment_ids],outputs=output_target)"
   ]
  },
  {
   "cell_type": "code",
   "execution_count": 12,
   "metadata": {
    "execution": {
     "iopub.execute_input": "2021-04-25T17:45:09.930360Z",
     "iopub.status.busy": "2021-04-25T17:45:09.929100Z",
     "iopub.status.idle": "2021-04-25T17:45:11.629972Z",
     "shell.execute_reply": "2021-04-25T17:45:11.630629Z"
    },
    "papermill": {
     "duration": 1.730287,
     "end_time": "2021-04-25T17:45:11.630823",
     "exception": false,
     "start_time": "2021-04-25T17:45:09.900536",
     "status": "completed"
    },
    "tags": []
   },
   "outputs": [],
   "source": [
    "# Build the model\n",
    "model = build_model(bert_layer,max_len=100)"
   ]
  },
  {
   "cell_type": "code",
   "execution_count": 13,
   "metadata": {
    "execution": {
     "iopub.execute_input": "2021-04-25T17:45:11.754298Z",
     "iopub.status.busy": "2021-04-25T17:45:11.739778Z",
     "iopub.status.idle": "2021-04-25T17:45:11.759991Z",
     "shell.execute_reply": "2021-04-25T17:45:11.760518Z"
    },
    "papermill": {
     "duration": 0.081399,
     "end_time": "2021-04-25T17:45:11.760700",
     "exception": false,
     "start_time": "2021-04-25T17:45:11.679301",
     "status": "completed"
    },
    "tags": []
   },
   "outputs": [
    {
     "name": "stdout",
     "output_type": "stream",
     "text": [
      "Model: \"functional_1\"\n",
      "__________________________________________________________________________________________________\n",
      "Layer (type)                    Output Shape         Param #     Connected to                     \n",
      "==================================================================================================\n",
      "input_word_ids (InputLayer)     [(None, 100)]        0                                            \n",
      "__________________________________________________________________________________________________\n",
      "input_mask (InputLayer)         [(None, 100)]        0                                            \n",
      "__________________________________________________________________________________________________\n",
      "segment_ids (InputLayer)        [(None, 100)]        0                                            \n",
      "__________________________________________________________________________________________________\n",
      "keras_layer (KerasLayer)        [(None, 768), (None, 109482241   input_word_ids[0][0]             \n",
      "                                                                 input_mask[0][0]                 \n",
      "                                                                 segment_ids[0][0]                \n",
      "__________________________________________________________________________________________________\n",
      "tf_op_layer_strided_slice (Tens [(None, 768)]        0           keras_layer[0][1]                \n",
      "__________________________________________________________________________________________________\n",
      "reshape (Reshape)               (None, 32, 24)       0           tf_op_layer_strided_slice[0][0]  \n",
      "__________________________________________________________________________________________________\n",
      "bidirectional (Bidirectional)   (None, 32, 256)      156672      reshape[0][0]                    \n",
      "__________________________________________________________________________________________________\n",
      "dropout_1 (Dropout)             (None, 32, 256)      0           bidirectional[0][0]              \n",
      "__________________________________________________________________________________________________\n",
      "dense (Dense)                   (None, 128)          98432       tf_op_layer_strided_slice[0][0]  \n",
      "__________________________________________________________________________________________________\n",
      "conv1d (Conv1D)                 (None, 28, 64)       81984       dropout_1[0][0]                  \n",
      "__________________________________________________________________________________________________\n",
      "dense_1 (Dense)                 (None, 64)           8256        dense[0][0]                      \n",
      "__________________________________________________________________________________________________\n",
      "max_pooling1d (MaxPooling1D)    (None, 1, 64)        0           conv1d[0][0]                     \n",
      "__________________________________________________________________________________________________\n",
      "dropout (Dropout)               (None, 64)           0           dense_1[0][0]                    \n",
      "__________________________________________________________________________________________________\n",
      "flatten (Flatten)               (None, 64)           0           max_pooling1d[0][0]              \n",
      "__________________________________________________________________________________________________\n",
      "concatenate (Concatenate)       (None, 128)          0           dropout[0][0]                    \n",
      "                                                                 flatten[0][0]                    \n",
      "__________________________________________________________________________________________________\n",
      "dense_2 (Dense)                 (None, 1)            129         concatenate[0][0]                \n",
      "==================================================================================================\n",
      "Total params: 109,827,714\n",
      "Trainable params: 345,473\n",
      "Non-trainable params: 109,482,241\n",
      "__________________________________________________________________________________________________\n"
     ]
    }
   ],
   "source": [
    "model.summary()"
   ]
  },
  {
   "cell_type": "code",
   "execution_count": 14,
   "metadata": {
    "execution": {
     "iopub.execute_input": "2021-04-25T17:45:11.869941Z",
     "iopub.status.busy": "2021-04-25T17:45:11.869054Z",
     "iopub.status.idle": "2021-04-25T17:45:11.891801Z",
     "shell.execute_reply": "2021-04-25T17:45:11.892471Z"
    },
    "papermill": {
     "duration": 0.081716,
     "end_time": "2021-04-25T17:45:11.892685",
     "exception": false,
     "start_time": "2021-04-25T17:45:11.810969",
     "status": "completed"
    },
    "tags": []
   },
   "outputs": [],
   "source": [
    "model.compile(optimizer=tf.keras.optimizers.Adam(lr=2e-6),loss='binary_crossentropy',metrics=['accuracy',tf.keras.metrics.AUC()])"
   ]
  },
  {
   "cell_type": "code",
   "execution_count": 15,
   "metadata": {
    "execution": {
     "iopub.execute_input": "2021-04-25T17:45:12.004254Z",
     "iopub.status.busy": "2021-04-25T17:45:12.003416Z",
     "iopub.status.idle": "2021-04-25T17:45:12.600945Z",
     "shell.execute_reply": "2021-04-25T17:45:12.601464Z"
    },
    "papermill": {
     "duration": 0.66255,
     "end_time": "2021-04-25T17:45:12.601616",
     "exception": false,
     "start_time": "2021-04-25T17:45:11.939066",
     "status": "completed"
    },
    "tags": []
   },
   "outputs": [
    {
     "data": {
      "image/png": "[encoded data removed]",
      "text/plain": [
       "<IPython.core.display.Image object>"
      ]
     },
     "execution_count": 15,
     "metadata": {},
     "output_type": "execute_result"
    }
   ],
   "source": [
    "tf.keras.utils.plot_model(model)"
   ]
  },
  {
   "cell_type": "code",
   "execution_count": 16,
   "metadata": {
    "execution": {
     "iopub.execute_input": "2021-04-25T17:45:12.667899Z",
     "iopub.status.busy": "2021-04-25T17:45:12.667337Z",
     "iopub.status.idle": "2021-04-25T17:47:50.521967Z",
     "shell.execute_reply": "2021-04-25T17:47:50.521475Z"
    },
    "papermill": {
     "duration": 157.890301,
     "end_time": "2021-04-25T17:47:50.522077",
     "exception": false,
     "start_time": "2021-04-25T17:45:12.631776",
     "status": "completed"
    },
    "tags": []
   },
   "outputs": [
    {
     "name": "stdout",
     "output_type": "stream",
     "text": [
      "Epoch 1/5\n",
      "305/305 [==============================] - 30s 99ms/step - loss: 0.8676 - accuracy: 0.5942 - auc: 0.5868 - val_loss: 0.8634 - val_accuracy: 0.5952 - val_auc: 0.6378\n",
      "Epoch 2/5\n",
      "305/305 [==============================] - 28s 92ms/step - loss: 0.8522 - accuracy: 0.6168 - auc: 0.6550 - val_loss: 0.8521 - val_accuracy: 0.6076 - val_auc: 0.6891\n",
      "Epoch 3/5\n",
      "305/305 [==============================] - 28s 92ms/step - loss: 0.8420 - accuracy: 0.6295 - auc: 0.6947 - val_loss: 0.8415 - val_accuracy: 0.6207 - val_auc: 0.7223\n",
      "Epoch 4/5\n",
      "305/305 [==============================] - 28s 92ms/step - loss: 0.8335 - accuracy: 0.6412 - auc: 0.7168 - val_loss: 0.8313 - val_accuracy: 0.6404 - val_auc: 0.7437\n",
      "Epoch 5/5\n",
      "305/305 [==============================] - 28s 92ms/step - loss: 0.8229 - accuracy: 0.6669 - auc: 0.7409 - val_loss: 0.8214 - val_accuracy: 0.6675 - val_auc: 0.7594\n"
     ]
    }
   ],
   "source": [
    "train_history = model.fit(train_input,Y_train,epochs=5,batch_size=16,validation_split=0.2)"
   ]
  },
  {
   "cell_type": "markdown",
   "metadata": {
    "papermill": {
     "duration": 0.452595,
     "end_time": "2021-04-25T17:47:51.422501",
     "exception": false,
     "start_time": "2021-04-25T17:47:50.969906",
     "status": "completed"
    },
    "tags": []
   },
   "source": [
    "# Testing and Refinement"
   ]
  },
  {
   "cell_type": "code",
   "execution_count": 17,
   "metadata": {
    "execution": {
     "iopub.execute_input": "2021-04-25T17:47:52.554916Z",
     "iopub.status.busy": "2021-04-25T17:47:52.546919Z",
     "iopub.status.idle": "2021-04-25T17:48:00.453407Z",
     "shell.execute_reply": "2021-04-25T17:48:00.452855Z"
    },
    "papermill": {
     "duration": 8.580773,
     "end_time": "2021-04-25T17:48:00.453556",
     "exception": false,
     "start_time": "2021-04-25T17:47:51.872783",
     "status": "completed"
    },
    "tags": []
   },
   "outputs": [],
   "source": [
    "predictions = model.predict(test_input)"
   ]
  },
  {
   "cell_type": "code",
   "execution_count": 18,
   "metadata": {
    "execution": {
     "iopub.execute_input": "2021-04-25T17:48:01.421565Z",
     "iopub.status.busy": "2021-04-25T17:48:01.420711Z",
     "iopub.status.idle": "2021-04-25T17:48:01.439396Z",
     "shell.execute_reply": "2021-04-25T17:48:01.439903Z"
    },
    "papermill": {
     "duration": 0.480926,
     "end_time": "2021-04-25T17:48:01.440041",
     "exception": false,
     "start_time": "2021-04-25T17:48:00.959115",
     "status": "completed"
    },
    "tags": []
   },
   "outputs": [
    {
     "name": "stdout",
     "output_type": "stream",
     "text": [
      "              precision    recall  f1-score   support\n",
      "\n",
      "           0       0.98      0.65      0.78      1306\n",
      "           1       0.30      0.90      0.45       217\n",
      "\n",
      "    accuracy                           0.69      1523\n",
      "   macro avg       0.64      0.78      0.62      1523\n",
      "weighted avg       0.88      0.69      0.73      1523\n",
      "\n",
      "[[851 455]\n",
      " [ 21 196]]\n"
     ]
    }
   ],
   "source": [
    "from sklearn.metrics import classification_report, confusion_matrix\n",
    "\n",
    "def pred_return(x):\n",
    "    if x>=0.5:\n",
    "        return 1\n",
    "    else:\n",
    "        return 0\n",
    "\n",
    "print(classification_report([pred_return(x) for x in predictions],Y_test))\n",
    "print(confusion_matrix([pred_return(x) for x in predictions],Y_test))"
   ]
  },
  {
   "cell_type": "markdown",
   "metadata": {
    "papermill": {
     "duration": 0.455221,
     "end_time": "2021-04-25T17:48:02.336593",
     "exception": false,
     "start_time": "2021-04-25T17:48:01.881372",
     "status": "completed"
    },
    "tags": []
   },
   "source": [
    "# Submission Testing and Saving"
   ]
  },
  {
   "cell_type": "code",
   "execution_count": 19,
   "metadata": {
    "execution": {
     "iopub.execute_input": "2021-04-25T17:48:03.392857Z",
     "iopub.status.busy": "2021-04-25T17:48:03.392012Z",
     "iopub.status.idle": "2021-04-25T17:48:03.415268Z",
     "shell.execute_reply": "2021-04-25T17:48:03.416310Z"
    },
    "papermill": {
     "duration": 0.639886,
     "end_time": "2021-04-25T17:48:03.416504",
     "exception": false,
     "start_time": "2021-04-25T17:48:02.776618",
     "status": "completed"
    },
    "tags": []
   },
   "outputs": [],
   "source": [
    "test_df = pd.read_csv('../input/nlp-getting-started/test.csv')"
   ]
  },
  {
   "cell_type": "code",
   "execution_count": 20,
   "metadata": {
    "execution": {
     "iopub.execute_input": "2021-04-25T17:48:04.361590Z",
     "iopub.status.busy": "2021-04-25T17:48:04.360772Z",
     "iopub.status.idle": "2021-04-25T17:48:04.364538Z",
     "shell.execute_reply": "2021-04-25T17:48:04.364102Z"
    },
    "papermill": {
     "duration": 0.455981,
     "end_time": "2021-04-25T17:48:04.364636",
     "exception": false,
     "start_time": "2021-04-25T17:48:03.908655",
     "status": "completed"
    },
    "tags": []
   },
   "outputs": [
    {
     "data": {
      "text/html": [
       "<div>\n",
       "<style scoped>\n",
       "    .dataframe tbody tr th:only-of-type {\n",
       "        vertical-align: middle;\n",
       "    }\n",
       "\n",
       "    .dataframe tbody tr th {\n",
       "        vertical-align: top;\n",
       "    }\n",
       "\n",
       "    .dataframe thead th {\n",
       "        text-align: right;\n",
       "    }\n",
       "</style>\n",
       "<table border=\"1\" class=\"dataframe\">\n",
       "  <thead>\n",
       "    <tr style=\"text-align: right;\">\n",
       "      <th></th>\n",
       "      <th>id</th>\n",
       "      <th>keyword</th>\n",
       "      <th>location</th>\n",
       "      <th>text</th>\n",
       "    </tr>\n",
       "  </thead>\n",
       "  <tbody>\n",
       "    <tr>\n",
       "      <th>0</th>\n",
       "      <td>0</td>\n",
       "      <td>NaN</td>\n",
       "      <td>NaN</td>\n",
       "      <td>Just happened a terrible car crash</td>\n",
       "    </tr>\n",
       "    <tr>\n",
       "      <th>1</th>\n",
       "      <td>2</td>\n",
       "      <td>NaN</td>\n",
       "      <td>NaN</td>\n",
       "      <td>Heard about #earthquake is different cities, s...</td>\n",
       "    </tr>\n",
       "    <tr>\n",
       "      <th>2</th>\n",
       "      <td>3</td>\n",
       "      <td>NaN</td>\n",
       "      <td>NaN</td>\n",
       "      <td>there is a forest fire at spot pond, geese are...</td>\n",
       "    </tr>\n",
       "    <tr>\n",
       "      <th>3</th>\n",
       "      <td>9</td>\n",
       "      <td>NaN</td>\n",
       "      <td>NaN</td>\n",
       "      <td>Apocalypse lighting. #Spokane #wildfires</td>\n",
       "    </tr>\n",
       "    <tr>\n",
       "      <th>4</th>\n",
       "      <td>11</td>\n",
       "      <td>NaN</td>\n",
       "      <td>NaN</td>\n",
       "      <td>Typhoon Soudelor kills 28 in China and Taiwan</td>\n",
       "    </tr>\n",
       "  </tbody>\n",
       "</table>\n",
       "</div>"
      ],
      "text/plain": [
       "   id keyword location                                               text\n",
       "0   0     NaN      NaN                 Just happened a terrible car crash\n",
       "1   2     NaN      NaN  Heard about #earthquake is different cities, s...\n",
       "2   3     NaN      NaN  there is a forest fire at spot pond, geese are...\n",
       "3   9     NaN      NaN           Apocalypse lighting. #Spokane #wildfires\n",
       "4  11     NaN      NaN      Typhoon Soudelor kills 28 in China and Taiwan"
      ]
     },
     "execution_count": 20,
     "metadata": {},
     "output_type": "execute_result"
    }
   ],
   "source": [
    "test_df.head()"
   ]
  },
  {
   "cell_type": "code",
   "execution_count": 21,
   "metadata": {
    "execution": {
     "iopub.execute_input": "2021-04-25T17:48:05.286798Z",
     "iopub.status.busy": "2021-04-25T17:48:05.271529Z",
     "iopub.status.idle": "2021-04-25T17:48:05.306241Z",
     "shell.execute_reply": "2021-04-25T17:48:05.305773Z"
    },
    "papermill": {
     "duration": 0.499418,
     "end_time": "2021-04-25T17:48:05.306336",
     "exception": false,
     "start_time": "2021-04-25T17:48:04.806918",
     "status": "completed"
    },
    "tags": []
   },
   "outputs": [],
   "source": [
    "test_df['text_clean'] = test_df['text'].apply(lambda x: clean_text(x))\n",
    "test_df['text_lowered'] = test_df['text_clean'].apply(lambda x: x.lower())"
   ]
  },
  {
   "cell_type": "code",
   "execution_count": 22,
   "metadata": {
    "execution": {
     "iopub.execute_input": "2021-04-25T17:48:06.220236Z",
     "iopub.status.busy": "2021-04-25T17:48:06.210422Z",
     "iopub.status.idle": "2021-04-25T17:48:07.446075Z",
     "shell.execute_reply": "2021-04-25T17:48:07.445568Z"
    },
    "papermill": {
     "duration": 1.698711,
     "end_time": "2021-04-25T17:48:07.446178",
     "exception": false,
     "start_time": "2021-04-25T17:48:05.747467",
     "status": "completed"
    },
    "tags": []
   },
   "outputs": [],
   "source": [
    "test_input = bert_encoding(test_df['text_lowered'],tokenizer,max_len=50)"
   ]
  },
  {
   "cell_type": "code",
   "execution_count": 23,
   "metadata": {
    "execution": {
     "iopub.execute_input": "2021-04-25T17:48:08.335878Z",
     "iopub.status.busy": "2021-04-25T17:48:08.334958Z",
     "iopub.status.idle": "2021-04-25T17:48:17.113311Z",
     "shell.execute_reply": "2021-04-25T17:48:17.112486Z"
    },
    "papermill": {
     "duration": 9.225857,
     "end_time": "2021-04-25T17:48:17.113425",
     "exception": false,
     "start_time": "2021-04-25T17:48:07.887568",
     "status": "completed"
    },
    "tags": []
   },
   "outputs": [
    {
     "data": {
      "text/html": [
       "<div>\n",
       "<style scoped>\n",
       "    .dataframe tbody tr th:only-of-type {\n",
       "        vertical-align: middle;\n",
       "    }\n",
       "\n",
       "    .dataframe tbody tr th {\n",
       "        vertical-align: top;\n",
       "    }\n",
       "\n",
       "    .dataframe thead th {\n",
       "        text-align: right;\n",
       "    }\n",
       "</style>\n",
       "<table border=\"1\" class=\"dataframe\">\n",
       "  <thead>\n",
       "    <tr style=\"text-align: right;\">\n",
       "      <th></th>\n",
       "      <th>id</th>\n",
       "      <th>target</th>\n",
       "    </tr>\n",
       "  </thead>\n",
       "  <tbody>\n",
       "    <tr>\n",
       "      <th>0</th>\n",
       "      <td>0</td>\n",
       "      <td>0</td>\n",
       "    </tr>\n",
       "    <tr>\n",
       "      <th>1</th>\n",
       "      <td>2</td>\n",
       "      <td>0</td>\n",
       "    </tr>\n",
       "    <tr>\n",
       "      <th>2</th>\n",
       "      <td>3</td>\n",
       "      <td>0</td>\n",
       "    </tr>\n",
       "    <tr>\n",
       "      <th>3</th>\n",
       "      <td>9</td>\n",
       "      <td>0</td>\n",
       "    </tr>\n",
       "    <tr>\n",
       "      <th>4</th>\n",
       "      <td>11</td>\n",
       "      <td>1</td>\n",
       "    </tr>\n",
       "  </tbody>\n",
       "</table>\n",
       "</div>"
      ],
      "text/plain": [
       "   id  target\n",
       "0   0       0\n",
       "1   2       0\n",
       "2   3       0\n",
       "3   9       0\n",
       "4  11       1"
      ]
     },
     "execution_count": 23,
     "metadata": {},
     "output_type": "execute_result"
    }
   ],
   "source": [
    "predictions = model.predict(test_input)\n",
    "test_df['target'] = [pred_return(x) for x in predictions]\n",
    "test_df.drop(['keyword','location','text','text_clean','text_lowered'],axis=1,inplace=True)\n",
    "test_df.head()"
   ]
  },
  {
   "cell_type": "code",
   "execution_count": 24,
   "metadata": {
    "execution": {
     "iopub.execute_input": "2021-04-25T17:48:18.004539Z",
     "iopub.status.busy": "2021-04-25T17:48:18.003734Z",
     "iopub.status.idle": "2021-04-25T17:48:18.006647Z",
     "shell.execute_reply": "2021-04-25T17:48:18.006219Z"
    },
    "papermill": {
     "duration": 0.449752,
     "end_time": "2021-04-25T17:48:18.006744",
     "exception": false,
     "start_time": "2021-04-25T17:48:17.556992",
     "status": "completed"
    },
    "tags": []
   },
   "outputs": [],
   "source": [
    "assert len(test_df['target']) == 3263"
   ]
  },
  {
   "cell_type": "code",
   "execution_count": 25,
   "metadata": {
    "execution": {
     "iopub.execute_input": "2021-04-25T17:48:18.896613Z",
     "iopub.status.busy": "2021-04-25T17:48:18.896045Z",
     "iopub.status.idle": "2021-04-25T17:48:18.950728Z",
     "shell.execute_reply": "2021-04-25T17:48:18.951302Z"
    },
    "papermill": {
     "duration": 0.501857,
     "end_time": "2021-04-25T17:48:18.951439",
     "exception": false,
     "start_time": "2021-04-25T17:48:18.449582",
     "status": "completed"
    },
    "tags": []
   },
   "outputs": [],
   "source": [
    "test_df.to_csv('submission.csv',index=False,header=True)"
   ]
  },
  {
   "cell_type": "code",
   "execution_count": null,
   "metadata": {
    "papermill": {
     "duration": 0.439727,
     "end_time": "2021-04-25T17:48:19.834601",
     "exception": false,
     "start_time": "2021-04-25T17:48:19.394874",
     "status": "completed"
    },
    "tags": []
   },
   "outputs": [],
   "source": []
  }
 ],
 "metadata": {
  "kernelspec": {
   "display_name": "Python 3",
   "language": "python",
   "name": "python3"
  },
  "language_info": {
   "codemirror_mode": {
    "name": "ipython",
    "version": 3
   },
   "file_extension": ".py",
   "mimetype": "text/x-python",
   "name": "python",
   "nbconvert_exporter": "python",
   "pygments_lexer": "ipython3",
   "version": "3.7.6"
  },
  "papermill": {
   "duration": 237.040417,
   "end_time": "2021-04-25T17:48:22.077730",
   "environment_variables": {},
   "exception": null,
   "input_path": "__notebook__.ipynb",
   "output_path": "__notebook__.ipynb",
   "parameters": {},
   "start_time": "2021-04-25T17:44:25.037313",
   "version": "2.1.0"
  }
 },
 "nbformat": 4,
 "nbformat_minor": 4
}
