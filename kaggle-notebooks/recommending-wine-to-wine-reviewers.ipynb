{
 "cells": [
  {
   "cell_type": "markdown",
   "metadata": {
    "papermill": {
     "duration": 0.02128,
     "end_time": "2020-11-01T18:30:08.925008",
     "exception": false,
     "start_time": "2020-11-01T18:30:08.903728",
     "status": "completed"
    },
    "tags": []
   },
   "source": [
    "# Recommending Wine to Wine Reviewers\n",
    "\n",
    "This notebook aims to use both Collaborative Filtering and Content-Based Recommendation Engines to recommend wines to wine reviewers based on the data set \"wine-reviews.\" \n",
    "\n",
    "The two methods of recommendation machine learning that I'll use:\n",
    "* **Collaborative Filter (CF) Recommendations** - collaborative filter recommendations use the 'wisdom of the masses' to recommend items for users based on similarities between user ratings of the items. It uses the logic of Person A likes Item 1, 2 and 3 - Person B likes Item 1, and 2 - therefore Person B will likely like Item 3 as well. \n",
    "* **Content-Based Recommendations** - content based recommendations rely on matrix reductions to identify cosine similarity between feature vectors of items. It uses the logic of identifying similarity between items to understand what a user would like given their current preferences. \n",
    "\n",
    "This notebook will investigate both methods of recommendation engines to produce results for wine reviewers."
   ]
  },
  {
   "cell_type": "code",
   "execution_count": 1,
   "metadata": {
    "execution": {
     "iopub.execute_input": "2020-11-01T18:30:08.971995Z",
     "iopub.status.busy": "2020-11-01T18:30:08.971130Z",
     "iopub.status.idle": "2020-11-01T18:30:09.844393Z",
     "shell.execute_reply": "2020-11-01T18:30:09.843097Z"
    },
    "papermill": {
     "duration": 0.899409,
     "end_time": "2020-11-01T18:30:09.844530",
     "exception": false,
     "start_time": "2020-11-01T18:30:08.945121",
     "status": "completed"
    },
    "tags": []
   },
   "outputs": [],
   "source": [
    "# Importing dependencies\n",
    "\n",
    "# Surprise is a Python library for collaborative filtering recommendation algorithms\n",
    "from surprise import SVD\n",
    "from surprise import NMF\n",
    "from surprise.model_selection import cross_validate\n",
    "from surprise import Reader, Dataset\n",
    "\n",
    "# Sci-kit Learn is a popular Python library for machine learning and data science models\n",
    "from sklearn.feature_extraction.text import TfidfVectorizer\n",
    "from sklearn.metrics.pairwise import linear_kernel \n",
    "from sklearn.model_selection import train_test_split\n",
    "\n",
    "import pandas as pd\n",
    "import numpy as np"
   ]
  },
  {
   "cell_type": "markdown",
   "metadata": {
    "papermill": {
     "duration": 0.020659,
     "end_time": "2020-11-01T18:30:09.886982",
     "exception": false,
     "start_time": "2020-11-01T18:30:09.866323",
     "status": "completed"
    },
    "tags": []
   },
   "source": [
    "## Reading and Analyzing the Data\n",
    "\n",
    "First we will read the wine review data and conduct some simple data exploration on it."
   ]
  },
  {
   "cell_type": "code",
   "execution_count": 2,
   "metadata": {
    "_cell_guid": "79c7e3d0-c299-4dcb-8224-4455121ee9b0",
    "_uuid": "d629ff2d2480ee46fbb7e2d37f6b5fab8052498a",
    "execution": {
     "iopub.execute_input": "2020-11-01T18:30:09.936677Z",
     "iopub.status.busy": "2020-11-01T18:30:09.935699Z",
     "iopub.status.idle": "2020-11-01T18:30:10.961625Z",
     "shell.execute_reply": "2020-11-01T18:30:10.962252Z"
    },
    "papermill": {
     "duration": 1.054875,
     "end_time": "2020-11-01T18:30:10.962413",
     "exception": false,
     "start_time": "2020-11-01T18:30:09.907538",
     "status": "completed"
    },
    "tags": []
   },
   "outputs": [
    {
     "data": {
      "text/html": [
       "<div>\n",
       "<style scoped>\n",
       "    .dataframe tbody tr th:only-of-type {\n",
       "        vertical-align: middle;\n",
       "    }\n",
       "\n",
       "    .dataframe tbody tr th {\n",
       "        vertical-align: top;\n",
       "    }\n",
       "\n",
       "    .dataframe thead th {\n",
       "        text-align: right;\n",
       "    }\n",
       "</style>\n",
       "<table border=\"1\" class=\"dataframe\">\n",
       "  <thead>\n",
       "    <tr style=\"text-align: right;\">\n",
       "      <th></th>\n",
       "      <th>Unnamed: 0</th>\n",
       "      <th>country</th>\n",
       "      <th>description</th>\n",
       "      <th>designation</th>\n",
       "      <th>points</th>\n",
       "      <th>price</th>\n",
       "      <th>province</th>\n",
       "      <th>region_1</th>\n",
       "      <th>region_2</th>\n",
       "      <th>taster_name</th>\n",
       "      <th>taster_twitter_handle</th>\n",
       "      <th>title</th>\n",
       "      <th>variety</th>\n",
       "      <th>winery</th>\n",
       "    </tr>\n",
       "  </thead>\n",
       "  <tbody>\n",
       "    <tr>\n",
       "      <th>0</th>\n",
       "      <td>0</td>\n",
       "      <td>Italy</td>\n",
       "      <td>Aromas include tropical fruit, broom, brimston...</td>\n",
       "      <td>Vulkà Bianco</td>\n",
       "      <td>87</td>\n",
       "      <td>NaN</td>\n",
       "      <td>Sicily &amp; Sardinia</td>\n",
       "      <td>Etna</td>\n",
       "      <td>NaN</td>\n",
       "      <td>Kerin O’Keefe</td>\n",
       "      <td>@kerinokeefe</td>\n",
       "      <td>Nicosia 2013 Vulkà Bianco  (Etna)</td>\n",
       "      <td>White Blend</td>\n",
       "      <td>Nicosia</td>\n",
       "    </tr>\n",
       "    <tr>\n",
       "      <th>1</th>\n",
       "      <td>1</td>\n",
       "      <td>Portugal</td>\n",
       "      <td>This is ripe and fruity, a wine that is smooth...</td>\n",
       "      <td>Avidagos</td>\n",
       "      <td>87</td>\n",
       "      <td>15.0</td>\n",
       "      <td>Douro</td>\n",
       "      <td>NaN</td>\n",
       "      <td>NaN</td>\n",
       "      <td>Roger Voss</td>\n",
       "      <td>@vossroger</td>\n",
       "      <td>Quinta dos Avidagos 2011 Avidagos Red (Douro)</td>\n",
       "      <td>Portuguese Red</td>\n",
       "      <td>Quinta dos Avidagos</td>\n",
       "    </tr>\n",
       "    <tr>\n",
       "      <th>2</th>\n",
       "      <td>2</td>\n",
       "      <td>US</td>\n",
       "      <td>Tart and snappy, the flavors of lime flesh and...</td>\n",
       "      <td>NaN</td>\n",
       "      <td>87</td>\n",
       "      <td>14.0</td>\n",
       "      <td>Oregon</td>\n",
       "      <td>Willamette Valley</td>\n",
       "      <td>Willamette Valley</td>\n",
       "      <td>Paul Gregutt</td>\n",
       "      <td>@paulgwine</td>\n",
       "      <td>Rainstorm 2013 Pinot Gris (Willamette Valley)</td>\n",
       "      <td>Pinot Gris</td>\n",
       "      <td>Rainstorm</td>\n",
       "    </tr>\n",
       "    <tr>\n",
       "      <th>3</th>\n",
       "      <td>3</td>\n",
       "      <td>US</td>\n",
       "      <td>Pineapple rind, lemon pith and orange blossom ...</td>\n",
       "      <td>Reserve Late Harvest</td>\n",
       "      <td>87</td>\n",
       "      <td>13.0</td>\n",
       "      <td>Michigan</td>\n",
       "      <td>Lake Michigan Shore</td>\n",
       "      <td>NaN</td>\n",
       "      <td>Alexander Peartree</td>\n",
       "      <td>NaN</td>\n",
       "      <td>St. Julian 2013 Reserve Late Harvest Riesling ...</td>\n",
       "      <td>Riesling</td>\n",
       "      <td>St. Julian</td>\n",
       "    </tr>\n",
       "    <tr>\n",
       "      <th>4</th>\n",
       "      <td>4</td>\n",
       "      <td>US</td>\n",
       "      <td>Much like the regular bottling from 2012, this...</td>\n",
       "      <td>Vintner's Reserve Wild Child Block</td>\n",
       "      <td>87</td>\n",
       "      <td>65.0</td>\n",
       "      <td>Oregon</td>\n",
       "      <td>Willamette Valley</td>\n",
       "      <td>Willamette Valley</td>\n",
       "      <td>Paul Gregutt</td>\n",
       "      <td>@paulgwine</td>\n",
       "      <td>Sweet Cheeks 2012 Vintner's Reserve Wild Child...</td>\n",
       "      <td>Pinot Noir</td>\n",
       "      <td>Sweet Cheeks</td>\n",
       "    </tr>\n",
       "  </tbody>\n",
       "</table>\n",
       "</div>"
      ],
      "text/plain": [
       "   Unnamed: 0   country                                        description  \\\n",
       "0           0     Italy  Aromas include tropical fruit, broom, brimston...   \n",
       "1           1  Portugal  This is ripe and fruity, a wine that is smooth...   \n",
       "2           2        US  Tart and snappy, the flavors of lime flesh and...   \n",
       "3           3        US  Pineapple rind, lemon pith and orange blossom ...   \n",
       "4           4        US  Much like the regular bottling from 2012, this...   \n",
       "\n",
       "                          designation  points  price           province  \\\n",
       "0                        Vulkà Bianco      87    NaN  Sicily & Sardinia   \n",
       "1                            Avidagos      87   15.0              Douro   \n",
       "2                                 NaN      87   14.0             Oregon   \n",
       "3                Reserve Late Harvest      87   13.0           Michigan   \n",
       "4  Vintner's Reserve Wild Child Block      87   65.0             Oregon   \n",
       "\n",
       "              region_1           region_2         taster_name  \\\n",
       "0                 Etna                NaN       Kerin O’Keefe   \n",
       "1                  NaN                NaN          Roger Voss   \n",
       "2    Willamette Valley  Willamette Valley        Paul Gregutt   \n",
       "3  Lake Michigan Shore                NaN  Alexander Peartree   \n",
       "4    Willamette Valley  Willamette Valley        Paul Gregutt   \n",
       "\n",
       "  taster_twitter_handle                                              title  \\\n",
       "0          @kerinokeefe                  Nicosia 2013 Vulkà Bianco  (Etna)   \n",
       "1            @vossroger      Quinta dos Avidagos 2011 Avidagos Red (Douro)   \n",
       "2           @paulgwine       Rainstorm 2013 Pinot Gris (Willamette Valley)   \n",
       "3                   NaN  St. Julian 2013 Reserve Late Harvest Riesling ...   \n",
       "4           @paulgwine   Sweet Cheeks 2012 Vintner's Reserve Wild Child...   \n",
       "\n",
       "          variety               winery  \n",
       "0     White Blend              Nicosia  \n",
       "1  Portuguese Red  Quinta dos Avidagos  \n",
       "2      Pinot Gris            Rainstorm  \n",
       "3        Riesling           St. Julian  \n",
       "4      Pinot Noir         Sweet Cheeks  "
      ]
     },
     "execution_count": 2,
     "metadata": {},
     "output_type": "execute_result"
    }
   ],
   "source": [
    "# Data pulled into a Pandas DataFrame\n",
    "\n",
    "wine_df = pd.read_csv('/kaggle/input/wine-reviews/winemag-data-130k-v2.csv')\n",
    "wine_df.head()"
   ]
  },
  {
   "cell_type": "code",
   "execution_count": 3,
   "metadata": {
    "execution": {
     "iopub.execute_input": "2020-11-01T18:30:11.023155Z",
     "iopub.status.busy": "2020-11-01T18:30:11.021937Z",
     "iopub.status.idle": "2020-11-01T18:30:11.052621Z",
     "shell.execute_reply": "2020-11-01T18:30:11.053245Z"
    },
    "papermill": {
     "duration": 0.067009,
     "end_time": "2020-11-01T18:30:11.053411",
     "exception": false,
     "start_time": "2020-11-01T18:30:10.986402",
     "status": "completed"
    },
    "tags": []
   },
   "outputs": [
    {
     "data": {
      "text/html": [
       "<div>\n",
       "<style scoped>\n",
       "    .dataframe tbody tr th:only-of-type {\n",
       "        vertical-align: middle;\n",
       "    }\n",
       "\n",
       "    .dataframe tbody tr th {\n",
       "        vertical-align: top;\n",
       "    }\n",
       "\n",
       "    .dataframe thead th {\n",
       "        text-align: right;\n",
       "    }\n",
       "</style>\n",
       "<table border=\"1\" class=\"dataframe\">\n",
       "  <thead>\n",
       "    <tr style=\"text-align: right;\">\n",
       "      <th></th>\n",
       "      <th>Unnamed: 0</th>\n",
       "      <th>points</th>\n",
       "      <th>price</th>\n",
       "    </tr>\n",
       "  </thead>\n",
       "  <tbody>\n",
       "    <tr>\n",
       "      <th>count</th>\n",
       "      <td>129971.000000</td>\n",
       "      <td>129971.000000</td>\n",
       "      <td>120975.000000</td>\n",
       "    </tr>\n",
       "    <tr>\n",
       "      <th>mean</th>\n",
       "      <td>64985.000000</td>\n",
       "      <td>88.447138</td>\n",
       "      <td>35.363389</td>\n",
       "    </tr>\n",
       "    <tr>\n",
       "      <th>std</th>\n",
       "      <td>37519.540256</td>\n",
       "      <td>3.039730</td>\n",
       "      <td>41.022218</td>\n",
       "    </tr>\n",
       "    <tr>\n",
       "      <th>min</th>\n",
       "      <td>0.000000</td>\n",
       "      <td>80.000000</td>\n",
       "      <td>4.000000</td>\n",
       "    </tr>\n",
       "    <tr>\n",
       "      <th>25%</th>\n",
       "      <td>32492.500000</td>\n",
       "      <td>86.000000</td>\n",
       "      <td>17.000000</td>\n",
       "    </tr>\n",
       "    <tr>\n",
       "      <th>50%</th>\n",
       "      <td>64985.000000</td>\n",
       "      <td>88.000000</td>\n",
       "      <td>25.000000</td>\n",
       "    </tr>\n",
       "    <tr>\n",
       "      <th>75%</th>\n",
       "      <td>97477.500000</td>\n",
       "      <td>91.000000</td>\n",
       "      <td>42.000000</td>\n",
       "    </tr>\n",
       "    <tr>\n",
       "      <th>max</th>\n",
       "      <td>129970.000000</td>\n",
       "      <td>100.000000</td>\n",
       "      <td>3300.000000</td>\n",
       "    </tr>\n",
       "  </tbody>\n",
       "</table>\n",
       "</div>"
      ],
      "text/plain": [
       "          Unnamed: 0         points          price\n",
       "count  129971.000000  129971.000000  120975.000000\n",
       "mean    64985.000000      88.447138      35.363389\n",
       "std     37519.540256       3.039730      41.022218\n",
       "min         0.000000      80.000000       4.000000\n",
       "25%     32492.500000      86.000000      17.000000\n",
       "50%     64985.000000      88.000000      25.000000\n",
       "75%     97477.500000      91.000000      42.000000\n",
       "max    129970.000000     100.000000    3300.000000"
      ]
     },
     "execution_count": 3,
     "metadata": {},
     "output_type": "execute_result"
    }
   ],
   "source": [
    "# Investigate our numeric columns\n",
    "\n",
    "wine_df.describe()"
   ]
  },
  {
   "cell_type": "code",
   "execution_count": 4,
   "metadata": {
    "execution": {
     "iopub.execute_input": "2020-11-01T18:30:11.105501Z",
     "iopub.status.busy": "2020-11-01T18:30:11.104568Z",
     "iopub.status.idle": "2020-11-01T18:30:11.259344Z",
     "shell.execute_reply": "2020-11-01T18:30:11.260180Z"
    },
    "papermill": {
     "duration": 0.182787,
     "end_time": "2020-11-01T18:30:11.260371",
     "exception": false,
     "start_time": "2020-11-01T18:30:11.077584",
     "status": "completed"
    },
    "tags": []
   },
   "outputs": [
    {
     "name": "stdout",
     "output_type": "stream",
     "text": [
      "<class 'pandas.core.frame.DataFrame'>\n",
      "RangeIndex: 129971 entries, 0 to 129970\n",
      "Data columns (total 14 columns):\n",
      " #   Column                 Non-Null Count   Dtype  \n",
      "---  ------                 --------------   -----  \n",
      " 0   Unnamed: 0             129971 non-null  int64  \n",
      " 1   country                129908 non-null  object \n",
      " 2   description            129971 non-null  object \n",
      " 3   designation            92506 non-null   object \n",
      " 4   points                 129971 non-null  int64  \n",
      " 5   price                  120975 non-null  float64\n",
      " 6   province               129908 non-null  object \n",
      " 7   region_1               108724 non-null  object \n",
      " 8   region_2               50511 non-null   object \n",
      " 9   taster_name            103727 non-null  object \n",
      " 10  taster_twitter_handle  98758 non-null   object \n",
      " 11  title                  129971 non-null  object \n",
      " 12  variety                129970 non-null  object \n",
      " 13  winery                 129971 non-null  object \n",
      "dtypes: float64(1), int64(2), object(11)\n",
      "memory usage: 13.9+ MB\n"
     ]
    }
   ],
   "source": [
    "# Check the non-null count and data types for each column\n",
    "\n",
    "wine_df.info()"
   ]
  },
  {
   "cell_type": "markdown",
   "metadata": {
    "papermill": {
     "duration": 0.02253,
     "end_time": "2020-11-01T18:30:11.307493",
     "exception": false,
     "start_time": "2020-11-01T18:30:11.284963",
     "status": "completed"
    },
    "tags": []
   },
   "source": [
    "## Collaborative Filter Recommendations\n",
    "\n",
    "I'll start with CF recommendations. \n",
    "\n",
    "The required format for CF recommendations is ['userId', 'itemId', 'rating']. \n",
    "\n",
    "In our case, that will be ['tasterId', 'wineId', 'points']. The collaborative filtering will use the Surprise library and import its Singular Value Decompisition model, made famous by Simon Funk during the Netflix competition. Essentially, the model will follow stochaistic gradient descent to minimalize the squared error of the predictions. "
   ]
  },
  {
   "cell_type": "code",
   "execution_count": 5,
   "metadata": {
    "execution": {
     "iopub.execute_input": "2020-11-01T18:30:11.362621Z",
     "iopub.status.busy": "2020-11-01T18:30:11.357148Z",
     "iopub.status.idle": "2020-11-01T18:30:11.778115Z",
     "shell.execute_reply": "2020-11-01T18:30:11.777549Z"
    },
    "papermill": {
     "duration": 0.447665,
     "end_time": "2020-11-01T18:30:11.778239",
     "exception": false,
     "start_time": "2020-11-01T18:30:11.330574",
     "status": "completed"
    },
    "tags": []
   },
   "outputs": [
    {
     "data": {
      "text/html": [
       "<div>\n",
       "<style scoped>\n",
       "    .dataframe tbody tr th:only-of-type {\n",
       "        vertical-align: middle;\n",
       "    }\n",
       "\n",
       "    .dataframe tbody tr th {\n",
       "        vertical-align: top;\n",
       "    }\n",
       "\n",
       "    .dataframe thead th {\n",
       "        text-align: right;\n",
       "    }\n",
       "</style>\n",
       "<table border=\"1\" class=\"dataframe\">\n",
       "  <thead>\n",
       "    <tr style=\"text-align: right;\">\n",
       "      <th></th>\n",
       "      <th>points</th>\n",
       "      <th>taster_name</th>\n",
       "      <th>title</th>\n",
       "      <th>tasterId</th>\n",
       "      <th>wineId</th>\n",
       "    </tr>\n",
       "  </thead>\n",
       "  <tbody>\n",
       "    <tr>\n",
       "      <th>0</th>\n",
       "      <td>87</td>\n",
       "      <td>Kerin O’Keefe</td>\n",
       "      <td>Nicosia 2013 Vulkà Bianco  (Etna)</td>\n",
       "      <td>9</td>\n",
       "      <td>79521</td>\n",
       "    </tr>\n",
       "    <tr>\n",
       "      <th>1</th>\n",
       "      <td>87</td>\n",
       "      <td>Roger Voss</td>\n",
       "      <td>Quinta dos Avidagos 2011 Avidagos Red (Douro)</td>\n",
       "      <td>15</td>\n",
       "      <td>89368</td>\n",
       "    </tr>\n",
       "    <tr>\n",
       "      <th>2</th>\n",
       "      <td>87</td>\n",
       "      <td>Paul Gregutt</td>\n",
       "      <td>Rainstorm 2013 Pinot Gris (Willamette Valley)</td>\n",
       "      <td>14</td>\n",
       "      <td>89782</td>\n",
       "    </tr>\n",
       "    <tr>\n",
       "      <th>3</th>\n",
       "      <td>87</td>\n",
       "      <td>Alexander Peartree</td>\n",
       "      <td>St. Julian 2013 Reserve Late Harvest Riesling ...</td>\n",
       "      <td>0</td>\n",
       "      <td>100878</td>\n",
       "    </tr>\n",
       "    <tr>\n",
       "      <th>4</th>\n",
       "      <td>87</td>\n",
       "      <td>Paul Gregutt</td>\n",
       "      <td>Sweet Cheeks 2012 Vintner's Reserve Wild Child...</td>\n",
       "      <td>14</td>\n",
       "      <td>102810</td>\n",
       "    </tr>\n",
       "  </tbody>\n",
       "</table>\n",
       "</div>"
      ],
      "text/plain": [
       "   points         taster_name  \\\n",
       "0      87       Kerin O’Keefe   \n",
       "1      87          Roger Voss   \n",
       "2      87        Paul Gregutt   \n",
       "3      87  Alexander Peartree   \n",
       "4      87        Paul Gregutt   \n",
       "\n",
       "                                               title  tasterId  wineId  \n",
       "0                  Nicosia 2013 Vulkà Bianco  (Etna)         9   79521  \n",
       "1      Quinta dos Avidagos 2011 Avidagos Red (Douro)        15   89368  \n",
       "2      Rainstorm 2013 Pinot Gris (Willamette Valley)        14   89782  \n",
       "3  St. Julian 2013 Reserve Late Harvest Riesling ...         0  100878  \n",
       "4  Sweet Cheeks 2012 Vintner's Reserve Wild Child...        14  102810  "
      ]
     },
     "execution_count": 5,
     "metadata": {},
     "output_type": "execute_result"
    }
   ],
   "source": [
    "# Select the categories necessary for CF and assign them to categorical representations\n",
    "\n",
    "wine_cf_df = wine_df.loc[:, ['points', 'taster_name', 'title']]\n",
    "wine_cf_df.loc[:, 'tasterId'] = wine_cf_df.loc[:, 'taster_name'].astype('category').cat.codes\n",
    "wine_cf_df.loc[:, 'wineId'] = wine_cf_df.loc[:, 'title'].astype('category').cat.codes\n",
    "\n",
    "wine_cf_df.head()"
   ]
  },
  {
   "cell_type": "markdown",
   "metadata": {
    "papermill": {
     "duration": 0.023031,
     "end_time": "2020-11-01T18:30:11.824423",
     "exception": false,
     "start_time": "2020-11-01T18:30:11.801392",
     "status": "completed"
    },
    "tags": []
   },
   "source": [
    "Next, I initiate the Surprise reader and dataset classes.\n",
    "* The **reader** is used to parse the dataset \n",
    "* The **Dataset** is used to hold data as parsed by a Surprise reader\n",
    "\n",
    "I'll then initiate the SVD algorithm and run the preset Surprise cross validation method to check how the model handles the data"
   ]
  },
  {
   "cell_type": "code",
   "execution_count": 6,
   "metadata": {
    "execution": {
     "iopub.execute_input": "2020-11-01T18:30:11.895074Z",
     "iopub.status.busy": "2020-11-01T18:30:11.889998Z",
     "iopub.status.idle": "2020-11-01T18:30:12.102011Z",
     "shell.execute_reply": "2020-11-01T18:30:12.101448Z"
    },
    "papermill": {
     "duration": 0.254006,
     "end_time": "2020-11-01T18:30:12.102146",
     "exception": false,
     "start_time": "2020-11-01T18:30:11.848140",
     "status": "completed"
    },
    "tags": []
   },
   "outputs": [],
   "source": [
    "# We know that the minimum and maximum of the rating scale 'points' is 80 and 100\n",
    "reader = Reader(rating_scale=(80, 100))\n",
    "\n",
    "# We load the data into the Surprise dataset with the reader\n",
    "data = Dataset.load_from_df(wine_cf_df[['tasterId', 'wineId', 'points']], reader)"
   ]
  },
  {
   "cell_type": "code",
   "execution_count": 7,
   "metadata": {
    "execution": {
     "iopub.execute_input": "2020-11-01T18:30:12.158533Z",
     "iopub.status.busy": "2020-11-01T18:30:12.153439Z",
     "iopub.status.idle": "2020-11-01T18:31:16.575154Z",
     "shell.execute_reply": "2020-11-01T18:31:16.574524Z"
    },
    "papermill": {
     "duration": 64.449897,
     "end_time": "2020-11-01T18:31:16.575267",
     "exception": false,
     "start_time": "2020-11-01T18:30:12.125370",
     "status": "completed"
    },
    "tags": []
   },
   "outputs": [
    {
     "name": "stdout",
     "output_type": "stream",
     "text": [
      "Evaluating RMSE, MAE of algorithm SVD on 5 split(s).\n",
      "\n",
      "                  Fold 1  Fold 2  Fold 3  Fold 4  Fold 5  Mean    Std     \n",
      "RMSE (testset)    2.8073  2.7933  2.7875  2.7976  2.8012  2.7974  0.0067  \n",
      "MAE (testset)     2.1640  2.1504  2.1423  2.1426  2.1527  2.1504  0.0080  \n",
      "Fit time          12.31   11.59   12.77   11.56   11.43   11.93   0.52    \n",
      "Test time         0.44    0.30    0.43    0.29    0.40    0.37    0.06    \n"
     ]
    },
    {
     "data": {
      "text/plain": [
       "{'test_rmse': array([2.80733572, 2.79334911, 2.78750987, 2.79758324, 2.80122726]),\n",
       " 'test_mae': array([2.16398659, 2.15038604, 2.14229566, 2.14261534, 2.15272081]),\n",
       " 'fit_time': (12.310510873794556,\n",
       "  11.594529151916504,\n",
       "  12.766496658325195,\n",
       "  11.560883283615112,\n",
       "  11.429670095443726),\n",
       " 'test_time': (0.43811869621276855,\n",
       "  0.2973320484161377,\n",
       "  0.4274940490722656,\n",
       "  0.29324889183044434,\n",
       "  0.40477538108825684)}"
      ]
     },
     "execution_count": 7,
     "metadata": {},
     "output_type": "execute_result"
    }
   ],
   "source": [
    "# Set the algorithm to Surprise's SVD and cross validate on our data\n",
    "algo = SVD()\n",
    "cross_validate(algo, data, measures=['RMSE','MAE'], cv=5, verbose=True)"
   ]
  },
  {
   "cell_type": "markdown",
   "metadata": {
    "papermill": {
     "duration": 0.025386,
     "end_time": "2020-11-01T18:31:16.626158",
     "exception": false,
     "start_time": "2020-11-01T18:31:16.600772",
     "status": "completed"
    },
    "tags": []
   },
   "source": [
    "SVD works decent with the data and returns a RMSE on average about 2.79 off. Perhaps there could be better algorithms in the Surprise library to use (such as KNN, Basic, etc.) but for our purposes we'll stick to SVD. \n",
    "\n",
    "Next I'll set up a train_set of the data using the Surprise Data class build_full_trainset method. Note that we can't simply fit the data, but first must prepare it for fitting with this method. Afterwords, we'll do the same to set up a test set using the build_anti_testset method from the train_set object. The anti_testset pulls all items and users where the rating is not known (they haven't tried it yet). This is important for exploration and recommending new items to the user."
   ]
  },
  {
   "cell_type": "code",
   "execution_count": 8,
   "metadata": {
    "execution": {
     "iopub.execute_input": "2020-11-01T18:31:16.702161Z",
     "iopub.status.busy": "2020-11-01T18:31:16.697095Z",
     "iopub.status.idle": "2020-11-01T18:32:07.695782Z",
     "shell.execute_reply": "2020-11-01T18:32:07.694494Z"
    },
    "papermill": {
     "duration": 51.044038,
     "end_time": "2020-11-01T18:32:07.695944",
     "exception": false,
     "start_time": "2020-11-01T18:31:16.651906",
     "status": "completed"
    },
    "tags": []
   },
   "outputs": [],
   "source": [
    "# Building a data trainset and testset for building predictions of what new wines users will like\n",
    "\n",
    "train_set = data.build_full_trainset()\n",
    "test_set = train_set.build_anti_testset()\n",
    "predictions = algo.fit(train_set).test(test_set)"
   ]
  },
  {
   "cell_type": "code",
   "execution_count": 9,
   "metadata": {
    "execution": {
     "iopub.execute_input": "2020-11-01T18:32:07.758860Z",
     "iopub.status.busy": "2020-11-01T18:32:07.757851Z",
     "iopub.status.idle": "2020-11-01T18:32:11.668483Z",
     "shell.execute_reply": "2020-11-01T18:32:11.667903Z"
    },
    "papermill": {
     "duration": 3.946106,
     "end_time": "2020-11-01T18:32:11.668637",
     "exception": false,
     "start_time": "2020-11-01T18:32:07.722531",
     "status": "completed"
    },
    "tags": []
   },
   "outputs": [
    {
     "data": {
      "text/html": [
       "<div>\n",
       "<style scoped>\n",
       "    .dataframe tbody tr th:only-of-type {\n",
       "        vertical-align: middle;\n",
       "    }\n",
       "\n",
       "    .dataframe tbody tr th {\n",
       "        vertical-align: top;\n",
       "    }\n",
       "\n",
       "    .dataframe thead th {\n",
       "        text-align: right;\n",
       "    }\n",
       "</style>\n",
       "<table border=\"1\" class=\"dataframe\">\n",
       "  <thead>\n",
       "    <tr style=\"text-align: right;\">\n",
       "      <th></th>\n",
       "      <th>wineLabel</th>\n",
       "      <th>est</th>\n",
       "    </tr>\n",
       "  </thead>\n",
       "  <tbody>\n",
       "    <tr>\n",
       "      <th>0</th>\n",
       "      <td>Ravines 2006 Chardonnay (Finger Lakes)</td>\n",
       "      <td>91.575788</td>\n",
       "    </tr>\n",
       "    <tr>\n",
       "      <th>1</th>\n",
       "      <td>Guitián 2006 Sobre Lias Godello (Valdeorras)</td>\n",
       "      <td>91.543624</td>\n",
       "    </tr>\n",
       "    <tr>\n",
       "      <th>2</th>\n",
       "      <td>Château du Cayrou 2011 Malbec Valley Malbec (C...</td>\n",
       "      <td>91.363991</td>\n",
       "    </tr>\n",
       "    <tr>\n",
       "      <th>3</th>\n",
       "      <td>Peltier 2011 Hybrid Cabernet Sauvignon (Lodi)</td>\n",
       "      <td>91.353269</td>\n",
       "    </tr>\n",
       "    <tr>\n",
       "      <th>4</th>\n",
       "      <td>Cayuse 2013 Cailloux Vineyard Syrah (Walla Wal...</td>\n",
       "      <td>91.310347</td>\n",
       "    </tr>\n",
       "    <tr>\n",
       "      <th>5</th>\n",
       "      <td>Feudi di San Gregorio 2008 Sirica Red (Campania)</td>\n",
       "      <td>91.295066</td>\n",
       "    </tr>\n",
       "    <tr>\n",
       "      <th>6</th>\n",
       "      <td>Plush 2010 Smooth Red (California)</td>\n",
       "      <td>91.268974</td>\n",
       "    </tr>\n",
       "    <tr>\n",
       "      <th>7</th>\n",
       "      <td>Line 39 2011 Cabernet Sauvignon (North Coast)</td>\n",
       "      <td>91.250388</td>\n",
       "    </tr>\n",
       "    <tr>\n",
       "      <th>8</th>\n",
       "      <td>Pujanza 2005 Norte  (Rioja)</td>\n",
       "      <td>91.201900</td>\n",
       "    </tr>\n",
       "    <tr>\n",
       "      <th>9</th>\n",
       "      <td>Lamoreaux Landing 2013 Grüner Veltliner (Finge...</td>\n",
       "      <td>91.197164</td>\n",
       "    </tr>\n",
       "  </tbody>\n",
       "</table>\n",
       "</div>"
      ],
      "text/plain": [
       "                                           wineLabel        est\n",
       "0             Ravines 2006 Chardonnay (Finger Lakes)  91.575788\n",
       "1       Guitián 2006 Sobre Lias Godello (Valdeorras)  91.543624\n",
       "2  Château du Cayrou 2011 Malbec Valley Malbec (C...  91.363991\n",
       "3      Peltier 2011 Hybrid Cabernet Sauvignon (Lodi)  91.353269\n",
       "4  Cayuse 2013 Cailloux Vineyard Syrah (Walla Wal...  91.310347\n",
       "5   Feudi di San Gregorio 2008 Sirica Red (Campania)  91.295066\n",
       "6                 Plush 2010 Smooth Red (California)  91.268974\n",
       "7      Line 39 2011 Cabernet Sauvignon (North Coast)  91.250388\n",
       "8                        Pujanza 2005 Norte  (Rioja)  91.201900\n",
       "9  Lamoreaux Landing 2013 Grüner Veltliner (Finge...  91.197164"
      ]
     },
     "execution_count": 9,
     "metadata": {},
     "output_type": "execute_result"
    }
   ],
   "source": [
    "# We can now see the top 10 wines for a user, and make other data analysis possible with the recommendations\n",
    "\n",
    "predictions_df = pd.DataFrame(predictions)\n",
    "\n",
    "# Get the top 10 recommended wines for Taster #9 (Kerin O'Keefe)\n",
    "uid = 9\n",
    "\n",
    "uid_preds = predictions_df.loc[predictions_df['uid'] == 9, :].sort_values(['est'], ascending=False).iloc[:10]\n",
    "uid_preds['wineLabel'] = uid_preds.loc[:, 'iid'].apply(lambda i: wine_cf_df.loc[wine_cf_df['wineId'] == i, 'title'].values[0])\n",
    "uid_preds.loc[:, ['wineLabel', 'est']].reset_index(drop=True)"
   ]
  },
  {
   "cell_type": "markdown",
   "metadata": {
    "papermill": {
     "duration": 0.025412,
     "end_time": "2020-11-01T18:32:11.720243",
     "exception": false,
     "start_time": "2020-11-01T18:32:11.694831",
     "status": "completed"
    },
    "tags": []
   },
   "source": [
    "After our model is fitted to the data, we can use it to predict how a user will like a certain item."
   ]
  },
  {
   "cell_type": "code",
   "execution_count": 10,
   "metadata": {
    "execution": {
     "iopub.execute_input": "2020-11-01T18:32:11.784623Z",
     "iopub.status.busy": "2020-11-01T18:32:11.783530Z",
     "iopub.status.idle": "2020-11-01T18:32:11.804172Z",
     "shell.execute_reply": "2020-11-01T18:32:11.803569Z"
    },
    "papermill": {
     "duration": 0.056822,
     "end_time": "2020-11-01T18:32:11.804295",
     "exception": false,
     "start_time": "2020-11-01T18:32:11.747473",
     "status": "completed"
    },
    "tags": []
   },
   "outputs": [
    {
     "name": "stdout",
     "output_type": "stream",
     "text": [
      "Kerin O’Keefe is predicted to rate Tantara 2010 Gwendolyn Pinot Noir (Sta. Rita Hills) with a score of 88.98 which is 0.53 off the global mean.\n"
     ]
    }
   ],
   "source": [
    "# Check how Taster #9 (Kerin O'Keefe) will like Wine # 89368 (Quinta dos Avidagos 2011)\n",
    "tasterId_ = 9\n",
    "wineId_ = 103657\n",
    "\n",
    "pred = predictions_df.loc[(predictions_df['uid'] == tasterId_) & (predictions_df['iid'] == wineId_), 'est'].values[0]\n",
    "\n",
    "print(f\"{wine_cf_df.loc[wine_cf_df['tasterId'] == int(tasterId_),'taster_name'].values[0]} is predicted to rate {wine_cf_df.loc[wine_cf_df['wineId'] == int(wineId_), 'title'].values[0]} with a score of {pred:.2f}\"\n",
    "     f\" which is {pred - predictions_df.loc[0, 'r_ui']:.2f} off the global mean.\")"
   ]
  },
  {
   "cell_type": "markdown",
   "metadata": {
    "papermill": {
     "duration": 0.024428,
     "end_time": "2020-11-01T18:32:11.853660",
     "exception": false,
     "start_time": "2020-11-01T18:32:11.829232",
     "status": "completed"
    },
    "tags": []
   },
   "source": [
    "## Content-Based Recommendations\n",
    "\n",
    "The other method of recommendation engines that we'll explore is content-based recommendations. Content-Based algorithms perform on a matrix of items and the items features to find similarities between data. In our example below, I use cosine similarities between term frequency inverse document frequency vectors for the description of the different wines. This allows us to find similar wines based solely on their term frequency (relative to document frequency). "
   ]
  },
  {
   "cell_type": "code",
   "execution_count": 11,
   "metadata": {
    "execution": {
     "iopub.execute_input": "2020-11-01T18:32:11.910690Z",
     "iopub.status.busy": "2020-11-01T18:32:11.908785Z",
     "iopub.status.idle": "2020-11-01T18:32:11.911412Z",
     "shell.execute_reply": "2020-11-01T18:32:11.911917Z"
    },
    "papermill": {
     "duration": 0.033543,
     "end_time": "2020-11-01T18:32:11.912060",
     "exception": false,
     "start_time": "2020-11-01T18:32:11.878517",
     "status": "completed"
    },
    "tags": []
   },
   "outputs": [],
   "source": [
    "# Importing dependencies from sci-kit learn's features and metrics libraries\n",
    "\n",
    "from sklearn.feature_extraction.text import TfidfVectorizer\n",
    "from sklearn.metrics.pairwise import linear_kernel \n",
    "from sklearn.model_selection import train_test_split"
   ]
  },
  {
   "cell_type": "code",
   "execution_count": 12,
   "metadata": {
    "execution": {
     "iopub.execute_input": "2020-11-01T18:32:11.971408Z",
     "iopub.status.busy": "2020-11-01T18:32:11.970516Z",
     "iopub.status.idle": "2020-11-01T18:32:12.317581Z",
     "shell.execute_reply": "2020-11-01T18:32:12.318161Z"
    },
    "papermill": {
     "duration": 0.381429,
     "end_time": "2020-11-01T18:32:12.318324",
     "exception": false,
     "start_time": "2020-11-01T18:32:11.936895",
     "status": "completed"
    },
    "tags": []
   },
   "outputs": [
    {
     "data": {
      "text/html": [
       "<div>\n",
       "<style scoped>\n",
       "    .dataframe tbody tr th:only-of-type {\n",
       "        vertical-align: middle;\n",
       "    }\n",
       "\n",
       "    .dataframe tbody tr th {\n",
       "        vertical-align: top;\n",
       "    }\n",
       "\n",
       "    .dataframe thead th {\n",
       "        text-align: right;\n",
       "    }\n",
       "</style>\n",
       "<table border=\"1\" class=\"dataframe\">\n",
       "  <thead>\n",
       "    <tr style=\"text-align: right;\">\n",
       "      <th></th>\n",
       "      <th>description</th>\n",
       "      <th>wineId</th>\n",
       "      <th>title</th>\n",
       "    </tr>\n",
       "  </thead>\n",
       "  <tbody>\n",
       "    <tr>\n",
       "      <th>0</th>\n",
       "      <td>Aromas include tropical fruit, broom, brimston...</td>\n",
       "      <td>79521</td>\n",
       "      <td>Nicosia 2013 Vulkà Bianco  (Etna)</td>\n",
       "    </tr>\n",
       "    <tr>\n",
       "      <th>1</th>\n",
       "      <td>This is ripe and fruity, a wine that is smooth...</td>\n",
       "      <td>89368</td>\n",
       "      <td>Quinta dos Avidagos 2011 Avidagos Red (Douro)</td>\n",
       "    </tr>\n",
       "    <tr>\n",
       "      <th>2</th>\n",
       "      <td>Tart and snappy, the flavors of lime flesh and...</td>\n",
       "      <td>89782</td>\n",
       "      <td>Rainstorm 2013 Pinot Gris (Willamette Valley)</td>\n",
       "    </tr>\n",
       "    <tr>\n",
       "      <th>3</th>\n",
       "      <td>Pineapple rind, lemon pith and orange blossom ...</td>\n",
       "      <td>100878</td>\n",
       "      <td>St. Julian 2013 Reserve Late Harvest Riesling ...</td>\n",
       "    </tr>\n",
       "    <tr>\n",
       "      <th>4</th>\n",
       "      <td>Much like the regular bottling from 2012, this...</td>\n",
       "      <td>102810</td>\n",
       "      <td>Sweet Cheeks 2012 Vintner's Reserve Wild Child...</td>\n",
       "    </tr>\n",
       "  </tbody>\n",
       "</table>\n",
       "</div>"
      ],
      "text/plain": [
       "                                         description  wineId  \\\n",
       "0  Aromas include tropical fruit, broom, brimston...   79521   \n",
       "1  This is ripe and fruity, a wine that is smooth...   89368   \n",
       "2  Tart and snappy, the flavors of lime flesh and...   89782   \n",
       "3  Pineapple rind, lemon pith and orange blossom ...  100878   \n",
       "4  Much like the regular bottling from 2012, this...  102810   \n",
       "\n",
       "                                               title  \n",
       "0                  Nicosia 2013 Vulkà Bianco  (Etna)  \n",
       "1      Quinta dos Avidagos 2011 Avidagos Red (Douro)  \n",
       "2      Rainstorm 2013 Pinot Gris (Willamette Valley)  \n",
       "3  St. Julian 2013 Reserve Late Harvest Riesling ...  \n",
       "4  Sweet Cheeks 2012 Vintner's Reserve Wild Child...  "
      ]
     },
     "execution_count": 12,
     "metadata": {},
     "output_type": "execute_result"
    }
   ],
   "source": [
    "# We once again need wineId codes, so we use the same categorization of wine titles\n",
    "\n",
    "wine_df.loc[:, 'wineId'] = wine_df.loc[:, 'title'].astype('category').cat.codes\n",
    "\n",
    "wine_df.loc[:, ['description', 'wineId', 'title']].head()"
   ]
  },
  {
   "cell_type": "code",
   "execution_count": 13,
   "metadata": {
    "execution": {
     "iopub.execute_input": "2020-11-01T18:32:12.380931Z",
     "iopub.status.busy": "2020-11-01T18:32:12.379955Z",
     "iopub.status.idle": "2020-11-01T18:32:12.454800Z",
     "shell.execute_reply": "2020-11-01T18:32:12.455744Z"
    },
    "papermill": {
     "duration": 0.110401,
     "end_time": "2020-11-01T18:32:12.455945",
     "exception": false,
     "start_time": "2020-11-01T18:32:12.345544",
     "status": "completed"
    },
    "tags": []
   },
   "outputs": [
    {
     "name": "stdout",
     "output_type": "stream",
     "text": [
      "Training on 6498 samples.\n"
     ]
    }
   ],
   "source": [
    "# Split the wine dataframe into a train and test split. Although we are not evaluating the data, the dataframe is much too large for Kaggle's \n",
    "    # kernels and so I'm only training on 5% of the data. A full implementation would require more significant memory or distributed training.\n",
    "    \n",
    "train_wine, test_wine = train_test_split(wine_df, train_size=0.05)\n",
    "\n",
    "train_wine.reset_index(drop=True, inplace=True)\n",
    "\n",
    "print(f\"Training on {len(train_wine)} samples.\")"
   ]
  },
  {
   "cell_type": "markdown",
   "metadata": {
    "papermill": {
     "duration": 0.02641,
     "end_time": "2020-11-01T18:32:12.509411",
     "exception": false,
     "start_time": "2020-11-01T18:32:12.483001",
     "status": "completed"
    },
    "tags": []
   },
   "source": [
    "There are a number of different methods for content-based recommendations, but I'll be using NLP TF-IDF features for this recommendation. Otherwise, features could include categorical columns on the province / country of the wine, some variable key words from the description, its price, and other data available. But since the description is readily available, that will be my use case."
   ]
  },
  {
   "cell_type": "code",
   "execution_count": 14,
   "metadata": {
    "execution": {
     "iopub.execute_input": "2020-11-01T18:32:12.597825Z",
     "iopub.status.busy": "2020-11-01T18:32:12.587510Z",
     "iopub.status.idle": "2020-11-01T18:32:14.164143Z",
     "shell.execute_reply": "2020-11-01T18:32:14.163406Z"
    },
    "papermill": {
     "duration": 1.62832,
     "end_time": "2020-11-01T18:32:14.164291",
     "exception": false,
     "start_time": "2020-11-01T18:32:12.535971",
     "status": "completed"
    },
    "tags": []
   },
   "outputs": [
    {
     "name": "stdout",
     "output_type": "stream",
     "text": [
      "The term-frequency inverse document frequency matrix is 6498 by 229797\n"
     ]
    }
   ],
   "source": [
    "# We're running the content-based recommender on TFIDF data from the wine descriptions. \n",
    "\n",
    "tf = TfidfVectorizer(analyzer='word', ngram_range=(1, 3), min_df = 0, stop_words='english')\n",
    "\n",
    "tfidf_matrix = tf.fit_transform(train_wine['description'])\n",
    "\n",
    "print(f\"The term-frequency inverse document frequency matrix is {tfidf_matrix.shape[0]} by {tfidf_matrix.shape[1]}\")"
   ]
  },
  {
   "cell_type": "markdown",
   "metadata": {
    "papermill": {
     "duration": 0.02686,
     "end_time": "2020-11-01T18:32:14.218451",
     "exception": false,
     "start_time": "2020-11-01T18:32:14.191591",
     "status": "completed"
    },
    "tags": []
   },
   "source": [
    "The linear_kernel from sklearn allows us to compute the linear kernel (the linear seperation of data) for the TFIDF matrices. We then find the similar indices for each item (wine), turn the similar index into a list of similar items (wines) and then append the similar items (other than the first which is the item itself) into the results. "
   ]
  },
  {
   "cell_type": "code",
   "execution_count": 15,
   "metadata": {
    "execution": {
     "iopub.execute_input": "2020-11-01T18:32:14.281545Z",
     "iopub.status.busy": "2020-11-01T18:32:14.280504Z",
     "iopub.status.idle": "2020-11-01T18:41:07.286840Z",
     "shell.execute_reply": "2020-11-01T18:41:07.285548Z"
    },
    "papermill": {
     "duration": 533.040846,
     "end_time": "2020-11-01T18:41:07.286971",
     "exception": false,
     "start_time": "2020-11-01T18:32:14.246125",
     "status": "completed"
    },
    "tags": []
   },
   "outputs": [],
   "source": [
    "# First finding the cosine similarities for the tfidf matrix\n",
    "cosine_similarities = linear_kernel(tfidf_matrix, tfidf_matrix)\n",
    "\n",
    "# Next, appending the results to a dictionary of the similar items to each wine\n",
    "results = {}\n",
    "for idx, row in train_wine.iterrows():\n",
    "    similar_indices = cosine_similarities[idx].argsort()[:100:-1]\n",
    "    similar_items = [(cosine_similarities[idx][i], train_wine['wineId'][i]) for i in similar_indices]\n",
    "    results[row['wineId']] = similar_items[1:]"
   ]
  },
  {
   "cell_type": "markdown",
   "metadata": {
    "papermill": {
     "duration": 0.027747,
     "end_time": "2020-11-01T18:41:07.342442",
     "exception": false,
     "start_time": "2020-11-01T18:41:07.314695",
     "status": "completed"
    },
    "tags": []
   },
   "source": [
    "Some simple functions below allow us to find the item by its id, and then grab the top num recommendations for a given item. "
   ]
  },
  {
   "cell_type": "code",
   "execution_count": 16,
   "metadata": {
    "execution": {
     "iopub.execute_input": "2020-11-01T18:41:07.408456Z",
     "iopub.status.busy": "2020-11-01T18:41:07.407473Z",
     "iopub.status.idle": "2020-11-01T18:41:07.410062Z",
     "shell.execute_reply": "2020-11-01T18:41:07.410600Z"
    },
    "papermill": {
     "duration": 0.04086,
     "end_time": "2020-11-01T18:41:07.410727",
     "exception": false,
     "start_time": "2020-11-01T18:41:07.369867",
     "status": "completed"
    },
    "tags": []
   },
   "outputs": [],
   "source": [
    "def item(id):\n",
    "    return train_wine.loc[train_wine['wineId'] == id]['title'].tolist()[0].split(' - ')[0]\n",
    "\n",
    "def recommend(item_id, num):\n",
    "    print('Recommending ' + str(num) + ' products similar to ' + item(item_id) + ' ...')\n",
    "    print('-----')\n",
    "    recs = results[item_id][:num]\n",
    "    for rec in recs:\n",
    "        print('Recommended: ' + item(rec[1]) + '(score: ' + f\"{rec[0]:.2f}\" + ')')"
   ]
  },
  {
   "cell_type": "markdown",
   "metadata": {
    "papermill": {
     "duration": 0.027112,
     "end_time": "2020-11-01T18:41:07.465737",
     "exception": false,
     "start_time": "2020-11-01T18:41:07.438625",
     "status": "completed"
    },
    "tags": []
   },
   "source": [
    "And now we can see the top num recommendations for any given item. "
   ]
  },
  {
   "cell_type": "code",
   "execution_count": 17,
   "metadata": {
    "execution": {
     "iopub.execute_input": "2020-11-01T18:41:07.535975Z",
     "iopub.status.busy": "2020-11-01T18:41:07.534730Z",
     "iopub.status.idle": "2020-11-01T18:41:07.543703Z",
     "shell.execute_reply": "2020-11-01T18:41:07.544252Z"
    },
    "papermill": {
     "duration": 0.050502,
     "end_time": "2020-11-01T18:41:07.544387",
     "exception": false,
     "start_time": "2020-11-01T18:41:07.493885",
     "status": "completed"
    },
    "tags": []
   },
   "outputs": [
    {
     "name": "stdout",
     "output_type": "stream",
     "text": [
      "Using itemId 68840 which is Loring Wine Company 2015 Rosella's Vineyard Pinot Noir (Santa Lucia Highlands) \n",
      "\n",
      "Recommending 5 products similar to Loring Wine Company 2015 Rosella's Vineyard Pinot Noir (Santa Lucia Highlands) ...\n",
      "-----\n",
      "Recommended: Giornata 2013 Luna Matta Vineyard Nebbiolo (Paso Robles)(score: 0.08)\n",
      "Recommended: Grattamacco 2011  Bolgheri Superiore(score: 0.08)\n",
      "Recommended: Roblar 2014 Sangiovese (Santa Ynez Valley)(score: 0.06)\n",
      "Recommended: Davis Family 2013 Soul Patch Estate Grown Syrah (Russian River Valley)(score: 0.06)\n",
      "Recommended: Masseria del Feudo Grottarossa 2010 Il Giglio Nero d'Avola (Sicilia)(score: 0.06)\n"
     ]
    }
   ],
   "source": [
    "# itemId (wineId) is grabbed from the trainset of wines\n",
    "\n",
    "itemId_ = train_wine.loc[:, 'wineId'].values[0]\n",
    "itemName_ = train_wine.loc[train_wine['wineId'] == itemId_, 'title'].values[0]\n",
    "\n",
    "print(f\"Using itemId {itemId_} which is {itemName_} \\n\")\n",
    "\n",
    "# The recommend function is then run to find and return the top num matches (5 in this case)\n",
    "\n",
    "recommend(item_id=itemId_, num=5)"
   ]
  },
  {
   "cell_type": "code",
   "execution_count": 18,
   "metadata": {
    "execution": {
     "iopub.execute_input": "2020-11-01T18:41:07.606251Z",
     "iopub.status.busy": "2020-11-01T18:41:07.605370Z",
     "iopub.status.idle": "2020-11-01T18:41:07.609567Z",
     "shell.execute_reply": "2020-11-01T18:41:07.608990Z"
    },
    "papermill": {
     "duration": 0.037114,
     "end_time": "2020-11-01T18:41:07.609679",
     "exception": false,
     "start_time": "2020-11-01T18:41:07.572565",
     "status": "completed"
    },
    "tags": []
   },
   "outputs": [
    {
     "data": {
      "text/plain": [
       "51148"
      ]
     },
     "execution_count": 18,
     "metadata": {},
     "output_type": "execute_result"
    }
   ],
   "source": [
    "results[itemId_][0][1]"
   ]
  },
  {
   "cell_type": "code",
   "execution_count": 19,
   "metadata": {
    "execution": {
     "iopub.execute_input": "2020-11-01T18:41:07.676646Z",
     "iopub.status.busy": "2020-11-01T18:41:07.675909Z",
     "iopub.status.idle": "2020-11-01T18:41:07.680991Z",
     "shell.execute_reply": "2020-11-01T18:41:07.681524Z"
    },
    "papermill": {
     "duration": 0.043348,
     "end_time": "2020-11-01T18:41:07.681644",
     "exception": false,
     "start_time": "2020-11-01T18:41:07.638296",
     "status": "completed"
    },
    "tags": []
   },
   "outputs": [
    {
     "name": "stdout",
     "output_type": "stream",
     "text": [
      "First wine description: \n",
      "Intense baked plum and black cherry aromas meet with vanilla, caramel and sagebrush on the nose of this bottling from one of the appellation's most coveted vineyards. The tangy, energetic and grippy palate offers crushed cranberry flavors, more black plum, gingerbread and exotic Indian spice on the finish. \n",
      "\n",
      "Matched wine description: \n",
      "Vibrant red plum and cherry aromas meet hibiscus, cinnamon and a touch of inviting cotton candy on the nose of this bottling. The palate brims with cinnamon spice, baked strawberry and red plum, further enhanced by licorice and ginger snap flavors. The structure is elegantly grippy.\n"
     ]
    }
   ],
   "source": [
    "# We can then compare the descriptions of the two wines to see how they match\n",
    "\n",
    "description_original = train_wine.loc[train_wine['title'] == itemName_, 'description'].values[0]\n",
    "\n",
    "description_matched = train_wine.loc[train_wine['wineId'] == results[itemId_][0][1], 'description'].values[0]\n",
    "\n",
    "print(f\"First wine description: \\n{description_original} \\n\\nMatched wine description: \\n{description_matched}\")"
   ]
  },
  {
   "cell_type": "markdown",
   "metadata": {
    "papermill": {
     "duration": 0.029435,
     "end_time": "2020-11-01T18:41:07.739686",
     "exception": false,
     "start_time": "2020-11-01T18:41:07.710251",
     "status": "completed"
    },
    "tags": []
   },
   "source": [
    "Both of these recommendation models have practical uses for building a more hybrid and comprehensive recommendation engine. For instance, content-based models allow for recommendations in absence of past user decisions - useful for a first-time reviewer. As the user's actions and decision history is compiled over time, the recommendation engine could begin to use more collaborative filtering to recommend wines liked by similarly tasted reviewers.\n",
    "\n",
    "The recommendation engine:\n",
    "* **First-time reviewers** - mostly using content-based models to recommend wines based on their past preferences. Similar to Netflix's select some movies you've previously enjoyed. \n",
    "* **Repeat reviewers** - as data is compiled on the user's tastes, the engine begins to shift from content-based to collaborative filtering. \n",
    "* **New wines** - as new items are added, without recommendations provided yet by reviewers, they can be recommended based on their description from the winery from the content-based model. Therefore it is important for exploration purposes that the engine never completely abandon content-based recommendations."
   ]
  }
 ],
 "metadata": {
  "kernelspec": {
   "display_name": "Python 3",
   "language": "python",
   "name": "python3"
  },
  "language_info": {
   "codemirror_mode": {
    "name": "ipython",
    "version": 3
   },
   "file_extension": ".py",
   "mimetype": "text/x-python",
   "name": "python",
   "nbconvert_exporter": "python",
   "pygments_lexer": "ipython3",
   "version": "3.7.6"
  },
  "papermill": {
   "duration": 664.209026,
   "end_time": "2020-11-01T18:41:08.920632",
   "environment_variables": {},
   "exception": null,
   "input_path": "__notebook__.ipynb",
   "output_path": "__notebook__.ipynb",
   "parameters": {},
   "start_time": "2020-11-01T18:30:04.711606",
   "version": "2.1.0"
  }
 },
 "nbformat": 4,
 "nbformat_minor": 4
}
