{
 "cells": [
  {
   "cell_type": "markdown",
   "source": [
    "## Assignment 1: MongoDB"
   ],
   "metadata": {
    "collapsed": false
   }
  },
  {
   "cell_type": "markdown",
   "source": [
    "This assignment is based on content discussed in Module 2: Introduction to MongoDB"
   ],
   "metadata": {
    "collapsed": false
   }
  },
  {
   "cell_type": "markdown",
   "source": [
    "## Learning outcomes"
   ],
   "metadata": {
    "collapsed": false
   }
  },
  {
   "cell_type": "markdown",
   "source": [
    "The purpose of this assignment is for learners to be able to:\n",
    "- Familarize with JSON document syntax\n",
    "- Understand basic MongoDB CRUD operations\n",
    "- Understand MongoDB data pipelines to run aggregate queries"
   ],
   "metadata": {
    "collapsed": false
   }
  },
  {
   "cell_type": "markdown",
   "source": [
    "In this assignment, you will make use of the sample data provided in Module 2.\n",
    "\n",
    "This dataset has 3 collections: Employee, Workplace and Address.  You will import this data into your local MongoDB database.\n",
    "\n",
    "Required imports for this project are given below. Make sure you have all libraries required for this project installed. You may use conda or pip based on your set up."
   ],
   "metadata": {
    "collapsed": false
   }
  },
  {
   "cell_type": "markdown",
   "source": [
    "## Setup Notes\n",
    "\n",
    "**Please note** These instructions are duplicated here for your reference. You would have encountered them originally in Module 2 Part 2. It is expected that you have already taken the steps to set up and run MongoDB.\n",
    "\n",
    "We will be using MongoDB Community Edition.  The MongoDB database <b>MUST</b> be installed and running locally before continuing with this notebook.  We will need to install two packages using the Anaconda package manager:\n",
    "\n",
    "1. [Mongodb](https://www.mongodb.com/) - this package contains the mongodb database\n",
    "2. [PyMongo](http://api.mongodb.com/python/current/) - this packages contains the python driver that will allow us to communicate with the mongodb database.\n",
    "\n",
    "#### Install\n",
    "\n",
    "1. Open a command line terminal and execute the following commad to install mongodb.\n",
    "```console\n",
    "conda install -c anaconda mongodb\n",
    "```\n",
    "2. Open a command line terminal and execute the following commad to install pymongo packge.\n",
    "```console\n",
    "conda install -c anaconda pymongo\n",
    "```\n",
    "\n",
    "#### Run Mongodb in Windows\n",
    "1. MongoDB requires a data directory to store all data. MongoDB’s default data directory path is \\data\\db. Create this folder using the following commands from a Command Prompt:\n",
    "```console\n",
    "md \\data\\db\n",
    "```\n",
    "\n",
    "2. To start MongoDB, run mongod.exe. For example, from the Command Prompt:\n",
    "```console\n",
    "\"C:\\Program Files\\MongoDB\\Server\\3.2\\bin\\mongod.exe\"\n",
    "```\n",
    "\n",
    "#### Run Mongodb in Mac\n",
    "1. MongoDB requires a data directory to store all data. MongoDB’s default data directory path is /data/db. Create this folder using the following commands from a Command Prompt.  Note that we run the command as a super user using the \"sudo\" command:\n",
    "```console\n",
    "sudo mkdir /data/db/\n",
    "```\n",
    "\n",
    "2. To start MongoDB, run mongod.exe. For example, from the Command Promp.  Note that we run the command as a super user using the \"sudo\" command:\n",
    "```console\n",
    "sudo mongod --config /usr/local/etc/mongod.conf\n",
    "```"
   ],
   "metadata": {
    "collapsed": false
   }
  },
  {
   "cell_type": "code",
   "execution_count": 3,
   "outputs": [
    {
     "name": "stdout",
     "output_type": "stream",
     "text": [
      "Mongo version 3.11.4\n"
     ]
    }
   ],
   "source": [
    "#required imports\n",
    "import os\n",
    "import json\n",
    "import datetime\n",
    "import pymongo\n",
    "import pprint\n",
    "import pandas as pd\n",
    "import numpy as np\n",
    "from pymongo import MongoClient\n",
    "print('Mongo version', pymongo.__version__)"
   ],
   "metadata": {
    "collapsed": false,
    "pycharm": {
     "name": "#%%\n"
    }
   }
  },
  {
   "cell_type": "markdown",
   "source": [
    "We first need to connect to our locally running MongoDB database (<b>Make sure your database is running on your machine</b>). We will use the MongoClient to connect to a local 'test' database that is running on port 27017 (this is the default port)."
   ],
   "metadata": {
    "collapsed": false
   }
  },
  {
   "cell_type": "code",
   "execution_count": 4,
   "outputs": [],
   "source": [
    "client = MongoClient('localhost', 27017)\n",
    "db = client.assignment1"
   ],
   "metadata": {
    "collapsed": false,
    "pycharm": {
     "name": "#%%\n"
    }
   }
  },
  {
   "cell_type": "markdown",
   "source": [
    "After installing necessary modules proceed to import the data into your database."
   ],
   "metadata": {
    "collapsed": false
   }
  },
  {
   "cell_type": "code",
   "execution_count": 18,
   "outputs": [],
   "source": [
    "# Let's delete any existing collections in our database\n",
    "db.workplace.drop()\n",
    "db.address.drop()\n",
    "db.employee.drop()\n",
    "\n",
    "# Import our files into our three collections\n",
    "with open('datadb/Employee.json') as f:\n",
    "    db.employee.insert_many(json.load(f))\n",
    "with open('datadb/Workplace.json') as f:\n",
    "    db.workplace.insert_many(json.load(f))\n",
    "with open('datadb/Address.json') as f:\n",
    "    db.address.insert_many(json.load(f))"
   ],
   "metadata": {
    "collapsed": false,
    "pycharm": {
     "name": "#%%\n"
    }
   }
  },
  {
   "cell_type": "markdown",
   "source": [
    "#### Question 1 (10 Marks)\n",
    "\n",
    "The address collection contains employee from different ages and interests.  Perform a simple query to list all employees that are less than or equal to 50 and like Cooking.\n",
    "\n",
    "__NOTE:__ the following shows the structure of an Employee document that will help you construct the query."
   ],
   "metadata": {
    "collapsed": false
   }
  },
  {
   "cell_type": "code",
   "execution_count": 19,
   "outputs": [
    {
     "name": "stdout",
     "output_type": "stream",
     "text": [
      "{'_id': '9f39da36-82cc-4353-ab90-d616105fa7c1',\n",
      " 'address_id': 'b6c0b50a-d0e3-43bf-a2a4-8d4674c2a7e8',\n",
      " 'age': 40,\n",
      " 'email': 'ih@ri.ro',\n",
      " 'firstname': 'Emilie',\n",
      " 'interests': ['Bowling', 'Cooking', 'Golf', 'Swimming'],\n",
      " 'lastname': 'Woods',\n",
      " 'workplace_id': 'a32bf18d-e0e5-48f2-a851-aa49c80f9460'}\n"
     ]
    }
   ],
   "source": [
    "pprint.pprint(client.assignment1.employee.find_one())"
   ],
   "metadata": {
    "collapsed": false,
    "pycharm": {
     "name": "#%%\n"
    }
   }
  },
  {
   "cell_type": "code",
   "execution_count": 57,
   "outputs": [
    {
     "data": {
      "text/plain": "                                     _id firstname  age  \\\n0   8243f5a6-3f69-42f3-af11-5486cc2273d4     Clyde   54   \n1   fcb42f1d-75ce-4e93-9407-48d7ccc83a3e     Sally   51   \n2   24c45b35-fc61-44b6-a896-4b78d6d58a55    Eugene   56   \n3   0194bd7a-2b2c-4d7e-8c4a-0b3a97a7bbf0    Ernest   79   \n4   4ec72815-86f9-42b7-a2cb-61459c12a352   Loretta   54   \n5   2acaa277-8551-41e0-b90e-5b4d199aca3f     Henry   59   \n6   7d70194f-9282-4360-b490-ff70e0b03bbf   Lucinda   61   \n7   9ebcf9fc-e193-4ab7-9c38-10c2d6bf6036      Alan   76   \n8   a85cdc3c-7279-4461-9556-49373143f41e      Alma   77   \n9   c6d0eebd-ddf2-41ed-a20f-76274c5c8343      Tony   72   \n10  87e08b6a-2cd0-4b55-a9bc-41166c8ef1ca   Bradley   71   \n11  e9e7ee3e-90da-4474-b6a7-f256e4915245     Jorge   57   \n12  f939c0f9-4d44-45da-81b8-10788a379cd4   Loretta   71   \n\n                                            interests  \n0                   [Bowling, Golf, Dancing, Cooking]  \n1   [Swimming, Fishing, Cooking, Bowling, Dancing,...  \n2        [Soccer, Fishing, Cycling, Cooking, Bowling]  \n3                   [Rubgy, Cooking, Dancing, Soccer]  \n4                  [Bowling, Tennis, Cooking, Hiking]  \n5   [Hiking, Golf, Tennis, Swimming, Fishing, Cook...  \n6                    [Hiking, Golf, Cooking, Fishing]  \n7   [Bowling, Cooking, Rubgy, Fishing, Golf, Cricket]  \n8                          [Cooking, Cycling, Hiking]  \n9                                    [Cooking, Rubgy]  \n10      [Cooking, Cricket, Bowling, Swimming, Soccer]  \n11                                          [Cooking]  \n12       [Fishing, Hiking, Cooking, Tennis, Swimming]  ",
      "text/html": "<div>\n<style scoped>\n    .dataframe tbody tr th:only-of-type {\n        vertical-align: middle;\n    }\n\n    .dataframe tbody tr th {\n        vertical-align: top;\n    }\n\n    .dataframe thead th {\n        text-align: right;\n    }\n</style>\n<table border=\"1\" class=\"dataframe\">\n  <thead>\n    <tr style=\"text-align: right;\">\n      <th></th>\n      <th>_id</th>\n      <th>firstname</th>\n      <th>age</th>\n      <th>interests</th>\n    </tr>\n  </thead>\n  <tbody>\n    <tr>\n      <th>0</th>\n      <td>8243f5a6-3f69-42f3-af11-5486cc2273d4</td>\n      <td>Clyde</td>\n      <td>54</td>\n      <td>[Bowling, Golf, Dancing, Cooking]</td>\n    </tr>\n    <tr>\n      <th>1</th>\n      <td>fcb42f1d-75ce-4e93-9407-48d7ccc83a3e</td>\n      <td>Sally</td>\n      <td>51</td>\n      <td>[Swimming, Fishing, Cooking, Bowling, Dancing,...</td>\n    </tr>\n    <tr>\n      <th>2</th>\n      <td>24c45b35-fc61-44b6-a896-4b78d6d58a55</td>\n      <td>Eugene</td>\n      <td>56</td>\n      <td>[Soccer, Fishing, Cycling, Cooking, Bowling]</td>\n    </tr>\n    <tr>\n      <th>3</th>\n      <td>0194bd7a-2b2c-4d7e-8c4a-0b3a97a7bbf0</td>\n      <td>Ernest</td>\n      <td>79</td>\n      <td>[Rubgy, Cooking, Dancing, Soccer]</td>\n    </tr>\n    <tr>\n      <th>4</th>\n      <td>4ec72815-86f9-42b7-a2cb-61459c12a352</td>\n      <td>Loretta</td>\n      <td>54</td>\n      <td>[Bowling, Tennis, Cooking, Hiking]</td>\n    </tr>\n    <tr>\n      <th>5</th>\n      <td>2acaa277-8551-41e0-b90e-5b4d199aca3f</td>\n      <td>Henry</td>\n      <td>59</td>\n      <td>[Hiking, Golf, Tennis, Swimming, Fishing, Cook...</td>\n    </tr>\n    <tr>\n      <th>6</th>\n      <td>7d70194f-9282-4360-b490-ff70e0b03bbf</td>\n      <td>Lucinda</td>\n      <td>61</td>\n      <td>[Hiking, Golf, Cooking, Fishing]</td>\n    </tr>\n    <tr>\n      <th>7</th>\n      <td>9ebcf9fc-e193-4ab7-9c38-10c2d6bf6036</td>\n      <td>Alan</td>\n      <td>76</td>\n      <td>[Bowling, Cooking, Rubgy, Fishing, Golf, Cricket]</td>\n    </tr>\n    <tr>\n      <th>8</th>\n      <td>a85cdc3c-7279-4461-9556-49373143f41e</td>\n      <td>Alma</td>\n      <td>77</td>\n      <td>[Cooking, Cycling, Hiking]</td>\n    </tr>\n    <tr>\n      <th>9</th>\n      <td>c6d0eebd-ddf2-41ed-a20f-76274c5c8343</td>\n      <td>Tony</td>\n      <td>72</td>\n      <td>[Cooking, Rubgy]</td>\n    </tr>\n    <tr>\n      <th>10</th>\n      <td>87e08b6a-2cd0-4b55-a9bc-41166c8ef1ca</td>\n      <td>Bradley</td>\n      <td>71</td>\n      <td>[Cooking, Cricket, Bowling, Swimming, Soccer]</td>\n    </tr>\n    <tr>\n      <th>11</th>\n      <td>e9e7ee3e-90da-4474-b6a7-f256e4915245</td>\n      <td>Jorge</td>\n      <td>57</td>\n      <td>[Cooking]</td>\n    </tr>\n    <tr>\n      <th>12</th>\n      <td>f939c0f9-4d44-45da-81b8-10788a379cd4</td>\n      <td>Loretta</td>\n      <td>71</td>\n      <td>[Fishing, Hiking, Cooking, Tennis, Swimming]</td>\n    </tr>\n  </tbody>\n</table>\n</div>"
     },
     "execution_count": 57,
     "metadata": {},
     "output_type": "execute_result"
    }
   ],
   "source": [
    "cursor = db.employee.find({'$and':\n",
    "                               [{'age':{'$gt': 50}},\n",
    "                                {'interests' : 'Cooking'}]},\n",
    "                          {\"firstname\", \"age\", \"interests\"})\n",
    "pd.DataFrame(list(cursor))"
   ],
   "metadata": {
    "collapsed": false,
    "pycharm": {
     "name": "#%%\n"
    }
   }
  },
  {
   "cell_type": "markdown",
   "source": [
    "#### Question 2  (10 Marks)\n",
    "\n",
    "Insert a new Employee with the following properties:\n",
    "\n",
    "* First Name: Jake\n",
    "* Last Name: Sample\n",
    "* Email: jakesample@email.com\n",
    "* Age: 26\n",
    "* Interest: Biking, Hiking\n",
    "\n",
    "Also, this employee works for 'Union Planters Corp' and lives at '573 Wojhas Square, Victoria'.\n",
    "Verify that the insert succeeded and display the generated employees _id attribute.\n",
    "\n",
    "__HINT__ An Employee document references a Workplace and Address document"
   ],
   "metadata": {
    "collapsed": false
   }
  },
  {
   "cell_type": "code",
   "execution_count": 23,
   "outputs": [
    {
     "name": "stdout",
     "output_type": "stream",
     "text": [
      "'60b95459b0a158fa59c46b7d'\n"
     ]
    }
   ],
   "source": [
    "workplace_jake = db.workplace.find_one({'name': 'Union Planters Corp'}, {'_id'})\n",
    "address_jake = db.address.find_one({'address': '573 Wojhas Square'}, {'_id'})\n",
    "\n",
    "db.employee.insert_one({\n",
    "    'age': '26',\n",
    "    'email': 'jakesample@email.com',\n",
    "    'firstname': 'Jake',\n",
    "    'interests': ['Biking', 'Hiking'],\n",
    "    'lastname': 'Sample',\n",
    "    'address_id': str(address_jake['_id']),\n",
    "    'workplace_id': str(workplace_jake['_id'])\n",
    "})\n",
    "\n",
    "cursor = db.employee.find_one({'firstname': 'Jake'}, {'_id'})\n",
    "pprint.pprint(str(cursor['_id']))"
   ],
   "metadata": {
    "collapsed": false,
    "pycharm": {
     "name": "#%%\n"
    }
   }
  },
  {
   "cell_type": "markdown",
   "source": [
    "#### Question 3 (10 Marks)\n",
    "\n",
    "Delete all employees that work for 'Great Plains Energy Inc' and are greater than 46 years old and likes 'Tennis'. Once you delete the employees verify the number of employees deleted."
   ],
   "metadata": {
    "collapsed": false
   }
  },
  {
   "cell_type": "code",
   "execution_count": 33,
   "outputs": [
    {
     "name": "stdout",
     "output_type": "stream",
     "text": [
      "True\n",
      "4\n"
     ]
    }
   ],
   "source": [
    "great_plains_id = db.workplace.find_one({'name': 'Great Plains Energy Inc.'}, {'_id'})\n",
    "\n",
    "delete_result = db.employee.delete_many({'$and':\n",
    "                                             [\n",
    "                                                 {'workplace_id': str(great_plains_id['_id'])},\n",
    "                                                 {'age':{'$gt': 46}},\n",
    "                                                 {'interests' : 'Tennis'}\n",
    "                                             ]\n",
    "})\n",
    "print(delete_result.acknowledged)\n",
    "print(delete_result.deleted_count)"
   ],
   "metadata": {
    "collapsed": false,
    "pycharm": {
     "name": "#%%\n"
    }
   }
  },
  {
   "cell_type": "markdown",
   "source": [
    "#### Question 4 (12 Marks)\n",
    "Add a new field called 'industry' to all employees that work for 'Health Net Inc.'.\n",
    "\n",
    "__HINT__ All a new field to a document is like updating the document"
   ],
   "metadata": {
    "collapsed": false
   }
  },
  {
   "cell_type": "code",
   "execution_count": 38,
   "outputs": [
    {
     "data": {
      "text/plain": "                                     _id  firstname  \\\n0   ad4fd8bd-b732-4388-8469-5395b497df63       Marc   \n1   6222b4f5-6fd3-4c72-b058-710fb568b869    Lucinda   \n2   ca189ae9-d04b-4ae0-9b4a-b725196c31d2     Emilie   \n3   ed499274-f17f-4a4c-8327-7e740e6dd9c1  Josephine   \n4   6a3bd505-56e6-46ec-bef1-2eef1fd3643c     Vernon   \n5   5b8bb404-5741-46a9-84f2-81248ffd2840       Glen   \n6   c7cf8650-f391-4f2b-bbb5-60225729e998   Jeremiah   \n7   9ebcf9fc-e193-4ab7-9c38-10c2d6bf6036       Alan   \n8   fd677b4b-6eef-4777-bc3a-25d9a86134fa     Mattie   \n9   cb369c19-4bbc-449f-bff6-b198439d0d7b      Adele   \n10  8c4b8dc8-2ecc-46e8-8653-d126f1810c33       Cory   \n11  9fd3a190-1991-4ce1-924b-de4701020022      Jacob   \n12  c6d0eebd-ddf2-41ed-a20f-76274c5c8343       Tony   \n13  e9e7ee3e-90da-4474-b6a7-f256e4915245      Jorge   \n\n                            workplace_id   industry  \n0   a222385c-342c-43ea-adbc-9b487a2ee2be  NEW_FIELD  \n1   a222385c-342c-43ea-adbc-9b487a2ee2be  NEW_FIELD  \n2   a222385c-342c-43ea-adbc-9b487a2ee2be  NEW_FIELD  \n3   a222385c-342c-43ea-adbc-9b487a2ee2be  NEW_FIELD  \n4   a222385c-342c-43ea-adbc-9b487a2ee2be  NEW_FIELD  \n5   a222385c-342c-43ea-adbc-9b487a2ee2be  NEW_FIELD  \n6   a222385c-342c-43ea-adbc-9b487a2ee2be  NEW_FIELD  \n7   a222385c-342c-43ea-adbc-9b487a2ee2be  NEW_FIELD  \n8   a222385c-342c-43ea-adbc-9b487a2ee2be  NEW_FIELD  \n9   a222385c-342c-43ea-adbc-9b487a2ee2be  NEW_FIELD  \n10  a222385c-342c-43ea-adbc-9b487a2ee2be  NEW_FIELD  \n11  a222385c-342c-43ea-adbc-9b487a2ee2be  NEW_FIELD  \n12  a222385c-342c-43ea-adbc-9b487a2ee2be  NEW_FIELD  \n13  a222385c-342c-43ea-adbc-9b487a2ee2be  NEW_FIELD  ",
      "text/html": "<div>\n<style scoped>\n    .dataframe tbody tr th:only-of-type {\n        vertical-align: middle;\n    }\n\n    .dataframe tbody tr th {\n        vertical-align: top;\n    }\n\n    .dataframe thead th {\n        text-align: right;\n    }\n</style>\n<table border=\"1\" class=\"dataframe\">\n  <thead>\n    <tr style=\"text-align: right;\">\n      <th></th>\n      <th>_id</th>\n      <th>firstname</th>\n      <th>workplace_id</th>\n      <th>industry</th>\n    </tr>\n  </thead>\n  <tbody>\n    <tr>\n      <th>0</th>\n      <td>ad4fd8bd-b732-4388-8469-5395b497df63</td>\n      <td>Marc</td>\n      <td>a222385c-342c-43ea-adbc-9b487a2ee2be</td>\n      <td>NEW_FIELD</td>\n    </tr>\n    <tr>\n      <th>1</th>\n      <td>6222b4f5-6fd3-4c72-b058-710fb568b869</td>\n      <td>Lucinda</td>\n      <td>a222385c-342c-43ea-adbc-9b487a2ee2be</td>\n      <td>NEW_FIELD</td>\n    </tr>\n    <tr>\n      <th>2</th>\n      <td>ca189ae9-d04b-4ae0-9b4a-b725196c31d2</td>\n      <td>Emilie</td>\n      <td>a222385c-342c-43ea-adbc-9b487a2ee2be</td>\n      <td>NEW_FIELD</td>\n    </tr>\n    <tr>\n      <th>3</th>\n      <td>ed499274-f17f-4a4c-8327-7e740e6dd9c1</td>\n      <td>Josephine</td>\n      <td>a222385c-342c-43ea-adbc-9b487a2ee2be</td>\n      <td>NEW_FIELD</td>\n    </tr>\n    <tr>\n      <th>4</th>\n      <td>6a3bd505-56e6-46ec-bef1-2eef1fd3643c</td>\n      <td>Vernon</td>\n      <td>a222385c-342c-43ea-adbc-9b487a2ee2be</td>\n      <td>NEW_FIELD</td>\n    </tr>\n    <tr>\n      <th>5</th>\n      <td>5b8bb404-5741-46a9-84f2-81248ffd2840</td>\n      <td>Glen</td>\n      <td>a222385c-342c-43ea-adbc-9b487a2ee2be</td>\n      <td>NEW_FIELD</td>\n    </tr>\n    <tr>\n      <th>6</th>\n      <td>c7cf8650-f391-4f2b-bbb5-60225729e998</td>\n      <td>Jeremiah</td>\n      <td>a222385c-342c-43ea-adbc-9b487a2ee2be</td>\n      <td>NEW_FIELD</td>\n    </tr>\n    <tr>\n      <th>7</th>\n      <td>9ebcf9fc-e193-4ab7-9c38-10c2d6bf6036</td>\n      <td>Alan</td>\n      <td>a222385c-342c-43ea-adbc-9b487a2ee2be</td>\n      <td>NEW_FIELD</td>\n    </tr>\n    <tr>\n      <th>8</th>\n      <td>fd677b4b-6eef-4777-bc3a-25d9a86134fa</td>\n      <td>Mattie</td>\n      <td>a222385c-342c-43ea-adbc-9b487a2ee2be</td>\n      <td>NEW_FIELD</td>\n    </tr>\n    <tr>\n      <th>9</th>\n      <td>cb369c19-4bbc-449f-bff6-b198439d0d7b</td>\n      <td>Adele</td>\n      <td>a222385c-342c-43ea-adbc-9b487a2ee2be</td>\n      <td>NEW_FIELD</td>\n    </tr>\n    <tr>\n      <th>10</th>\n      <td>8c4b8dc8-2ecc-46e8-8653-d126f1810c33</td>\n      <td>Cory</td>\n      <td>a222385c-342c-43ea-adbc-9b487a2ee2be</td>\n      <td>NEW_FIELD</td>\n    </tr>\n    <tr>\n      <th>11</th>\n      <td>9fd3a190-1991-4ce1-924b-de4701020022</td>\n      <td>Jacob</td>\n      <td>a222385c-342c-43ea-adbc-9b487a2ee2be</td>\n      <td>NEW_FIELD</td>\n    </tr>\n    <tr>\n      <th>12</th>\n      <td>c6d0eebd-ddf2-41ed-a20f-76274c5c8343</td>\n      <td>Tony</td>\n      <td>a222385c-342c-43ea-adbc-9b487a2ee2be</td>\n      <td>NEW_FIELD</td>\n    </tr>\n    <tr>\n      <th>13</th>\n      <td>e9e7ee3e-90da-4474-b6a7-f256e4915245</td>\n      <td>Jorge</td>\n      <td>a222385c-342c-43ea-adbc-9b487a2ee2be</td>\n      <td>NEW_FIELD</td>\n    </tr>\n  </tbody>\n</table>\n</div>"
     },
     "execution_count": 38,
     "metadata": {},
     "output_type": "execute_result"
    }
   ],
   "source": [
    "health_net_id = db.workplace.find_one({\"name\": \"Health Net Inc.\"}, {\"_id\"})\n",
    "db.employee.update_many({\"workplace_id\": str(health_net_id['_id'])},\n",
    "                        {\"$set\": {\"industry\": \"NEW_FIELD\"}})\n",
    "\n",
    "cursor = db.employee.find({\"workplace_id\" : str(health_net_id['_id'])},\n",
    "                          {\"firstname\", \"workplace_id\", \"industry\"})\n",
    "pd.DataFrame(list(cursor))"
   ],
   "metadata": {
    "collapsed": false,
    "pycharm": {
     "name": "#%%\n"
    }
   }
  },
  {
   "cell_type": "markdown",
   "source": [
    "#### Question 5 (10 Marks)\n",
    "\n",
    "Create an aggregate query to count the number of employees for each company and sort the output from largest employee count to lowest employee count.\n",
    "\n",
    "__NOTE__ you will use a pipeline to achieve the computed result.  You should produce a result similar to the following table (the following table contains fake data)\n",
    "<table>\n",
    "    <tr><th></th><th>_id</th><th>count</th></tr>\n",
    "    <tr><td>0</td><td>[Equity Residential Properties Trust]</td><td>19</td></tr>\n",
    "    <tr><td>...</td><td>...</td><td>...</td></tr>\n",
    "    <tr><td>7</td><td>[Bell Microproducts Inc.]</td><td>6</td></tr>\n",
    "    <tr><td>8</td><td>[Kemet Corp.]</td><td>1</td></tr>\n",
    "</table>\n",
    "\n",
    "__HINT__ you should make use of the \\\\$lookup, \\\\$group and \\\\$sort pipeline operations"
   ],
   "metadata": {
    "collapsed": false
   }
  },
  {
   "cell_type": "code",
   "execution_count": 56,
   "outputs": [
    {
     "data": {
      "text/plain": "                                     _id  count\n0                     [Hilton Solutions]     15\n1                      [Health Net Inc.]     14\n2                           [Aetna Inc.]     13\n3              [Bell Microproducts Inc.]     11\n4                  [Union Planters Corp]     11\n5       [Equity Office Properties Trust]     10\n6  [Equity Residential Properties Trust]      7\n7                        [Xcel Bear Inc]      6\n8                          [Kemet Corp.]      6\n9             [Great Plains Energy Inc.]      5",
      "text/html": "<div>\n<style scoped>\n    .dataframe tbody tr th:only-of-type {\n        vertical-align: middle;\n    }\n\n    .dataframe tbody tr th {\n        vertical-align: top;\n    }\n\n    .dataframe thead th {\n        text-align: right;\n    }\n</style>\n<table border=\"1\" class=\"dataframe\">\n  <thead>\n    <tr style=\"text-align: right;\">\n      <th></th>\n      <th>_id</th>\n      <th>count</th>\n    </tr>\n  </thead>\n  <tbody>\n    <tr>\n      <th>0</th>\n      <td>[Hilton Solutions]</td>\n      <td>15</td>\n    </tr>\n    <tr>\n      <th>1</th>\n      <td>[Health Net Inc.]</td>\n      <td>14</td>\n    </tr>\n    <tr>\n      <th>2</th>\n      <td>[Aetna Inc.]</td>\n      <td>13</td>\n    </tr>\n    <tr>\n      <th>3</th>\n      <td>[Bell Microproducts Inc.]</td>\n      <td>11</td>\n    </tr>\n    <tr>\n      <th>4</th>\n      <td>[Union Planters Corp]</td>\n      <td>11</td>\n    </tr>\n    <tr>\n      <th>5</th>\n      <td>[Equity Office Properties Trust]</td>\n      <td>10</td>\n    </tr>\n    <tr>\n      <th>6</th>\n      <td>[Equity Residential Properties Trust]</td>\n      <td>7</td>\n    </tr>\n    <tr>\n      <th>7</th>\n      <td>[Xcel Bear Inc]</td>\n      <td>6</td>\n    </tr>\n    <tr>\n      <th>8</th>\n      <td>[Kemet Corp.]</td>\n      <td>6</td>\n    </tr>\n    <tr>\n      <th>9</th>\n      <td>[Great Plains Energy Inc.]</td>\n      <td>5</td>\n    </tr>\n  </tbody>\n</table>\n</div>"
     },
     "execution_count": 56,
     "metadata": {},
     "output_type": "execute_result"
    }
   ],
   "source": [
    "pipeline = [\n",
    "    {'$lookup':\n",
    "        {\n",
    "            \"from\": \"workplace\",\n",
    "            \"localField\": \"workplace_id\",\n",
    "            \"foreignField\": \"_id\",\n",
    "            \"as\": \"workplace\"\n",
    "        }},\n",
    "    {'$group':\n",
    "            {\"_id\": \"$workplace.name\",\n",
    "             \"count\": {\"$sum\": 1}}\n",
    "     },\n",
    "    {\"$sort\": {\"count\": -1}}\n",
    "]\n",
    "\n",
    "query_result = db.employee.aggregate(pipeline)\n",
    "\n",
    "pd.DataFrame(list(query_result))"
   ],
   "metadata": {
    "collapsed": false,
    "pycharm": {
     "name": "#%%\n"
    }
   }
  },
  {
   "cell_type": "code",
   "execution_count": null,
   "outputs": [],
   "source": [],
   "metadata": {
    "collapsed": false,
    "pycharm": {
     "name": "#%%\n"
    }
   }
  }
 ],
 "metadata": {
  "kernelspec": {
   "display_name": "Python 3",
   "language": "python",
   "name": "python3"
  },
  "language_info": {
   "codemirror_mode": {
    "name": "ipython",
    "version": 2
   },
   "file_extension": ".py",
   "mimetype": "text/x-python",
   "name": "python",
   "nbconvert_exporter": "python",
   "pygments_lexer": "ipython2",
   "version": "2.7.6"
  }
 },
 "nbformat": 4,
 "nbformat_minor": 0
}