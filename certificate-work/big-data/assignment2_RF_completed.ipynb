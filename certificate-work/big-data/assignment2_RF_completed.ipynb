{
  "nbformat": 4,
  "nbformat_minor": 0,
  "metadata": {
    "colab": {
      "name": "assignment2_RF_completed.ipynb",
      "provenance": [],
      "include_colab_link": true
    },
    "kernelspec": {
      "display_name": "Python 3",
      "language": "python",
      "name": "python3"
    },
    "language_info": {
      "codemirror_mode": {
        "name": "ipython",
        "version": 3
      },
      "file_extension": ".py",
      "mimetype": "text/x-python",
      "name": "python",
      "nbconvert_exporter": "python",
      "pygments_lexer": "ipython3",
      "version": "3.8.5"
    }
  },
  "cells": [
    {
      "cell_type": "markdown",
      "metadata": {
        "id": "view-in-github",
        "colab_type": "text"
      },
      "source": [
        "<a href=\"https://colab.research.google.com/github/robb2828/fournier-coding/blob/main/assignment2_RF_completed.ipynb\" target=\"_parent\"><img src=\"https://colab.research.google.com/assets/colab-badge.svg\" alt=\"Open In Colab\"/></a>"
      ]
    },
    {
      "cell_type": "markdown",
      "metadata": {
        "id": "y8F-5tMKTQjL"
      },
      "source": [
        "## Assignment 2"
      ]
    },
    {
      "cell_type": "markdown",
      "metadata": {
        "id": "07Y_ONdkTQjR"
      },
      "source": [
        "This assignmemt is based on content discussed in module 2 and will work on a solution for the famous Monty Hall game.  Retrieved from https://en.wikipedia.org/wiki/Monty_Hall_problem\n"
      ]
    },
    {
      "cell_type": "markdown",
      "metadata": {
        "id": "7hNSzgdzTQjU"
      },
      "source": [
        "## Learning outcomes"
      ]
    },
    {
      "cell_type": "markdown",
      "metadata": {
        "id": "2QtRX9sRTQjX"
      },
      "source": [
        "- Program a simple simulation to solve a concrete statistical problem\n",
        "- Develop insight into the Bayesian probabilistic viewpoint\n",
        "- Recognize that statistical intuition can sometimes be wrong\n"
      ]
    },
    {
      "cell_type": "markdown",
      "metadata": {
        "id": "lfLffNUWTQja"
      },
      "source": [
        "**Question**\n",
        "\n",
        "Given below is the description of the problem.  \n",
        "\n",
        "Suppose you're on a game show and you're given the choice of three doors. \n",
        "\n",
        "Behind one door is a car; behind the others, goats. The car and the goats were placed randomly behind the doors before the show.\n",
        "\n",
        "The rules are:\n",
        "\n",
        "After you have chosen a door, the door remains closed for the time being. \n",
        "The game show host, Monty Hall, who knows what is behind the doors, now has to open one of the two remaining doors, and the door he opens must have a goat behind it. If both remaining doors have goats behind them, he chooses one randomly. \n",
        "\n",
        "After Monty opens a door with a goat, he will ask you to decide whether you want to stay with your first choice or to switch to the last remaining door. \n",
        "Imagine that you chose Door 1 and the host opens Door 3, which has a goat. \n",
        "He then asks you \"Do you want to switch to Door Number 2?\" Is it to your advantage to change your choice? \n",
        "\n",
        "**NOTES:**\n",
        "1. The player may initially choose any of the three doors (not just Door 1).\n",
        "2. The host opens a different door revealing a goat (not necessarily Door 3).\n",
        "3. The host gives the player a second choice between the two remaining unopened doors. \n"
      ]
    },
    {
      "cell_type": "markdown",
      "metadata": {
        "id": "L041acdjTQjb"
      },
      "source": [
        "![download.jpeg](attachment:download.jpeg)\n",
        "\n",
        "(Source: https://en.wikipedia.org/wiki/Monty_Hall_problem#)"
      ]
    },
    {
      "cell_type": "markdown",
      "metadata": {
        "id": "dAuGtwxzTQje"
      },
      "source": [
        "- Write Python code to solve the Monty Hall problem. Simulate at least a thousand games using three doors for each strategy and show the results in such a way as to make it easy to compare the effects of each strategy.\n"
      ]
    },
    {
      "cell_type": "code",
      "metadata": {
        "id": "GlZk3mKETQjg"
      },
      "source": [
        "# First, importing dependencies\n",
        "import random\n",
        "import pandas as pd\n",
        "import numpy as np\n",
        "import seaborn as sns\n",
        "import matplotlib.pyplot as plt\n"
      ],
      "execution_count": 84,
      "outputs": []
    },
    {
      "cell_type": "code",
      "metadata": {
        "id": "kEhvsp5OTWrn"
      },
      "source": [
        "# Building the simulation\n",
        "\n",
        "def monty_hall(STRATEGY):\n",
        "  '''\n",
        "  A simple simulation function to perform several logical steps to simulate the\n",
        "  Monty Hall problem. First, randomly assigning a car and 2 goats to 3 doors. \n",
        "  Then randomly selecting a door for the player. Then having Monty select a door \n",
        "  with a goat to open and remove. Finally, the player will either keep the door \n",
        "  or change, depending on their defined input strategy. \n",
        "\n",
        "  PARAMS:\n",
        "    STRATEGY: str, either 'first_door' or 'second_door'. If 'first_door', the\n",
        "              player will keep the first door they choose and not switch after\n",
        "              1 door is revealted. If 'second_door', they will switch to the \n",
        "              unopened door offered by Monty.\n",
        "  \n",
        "  RETURNS:\n",
        "    int:      1, 0. If the player has selected a door with a car, the function \n",
        "              will return a 1. If the player selected a door with a goat, the\n",
        "              function returns a 0.\n",
        "  '''\n",
        "\n",
        "  # Setting up the 3 doors and shuffling them\n",
        "  DOORS = ['CAR', 'GOAT', 'GOAT']\n",
        "  random.shuffle(DOORS)\n",
        "\n",
        "  # The player picks the first door at random\n",
        "  first_door_pick = random.randint(0,2)\n",
        "  first_pick = DOORS[first_door_pick] \n",
        "\n",
        "  # That door is removed from the list\n",
        "  DOORS.pop(first_door_pick)\n",
        "\n",
        "  # If there is more than 1 goat remaining, Monty selects one door at random to\n",
        "  # open. If there is one goat, that door is opened\n",
        "  if len([door for door in DOORS if door == 'GOAT']) > 1:\n",
        "    monty_pick = random.randint(0,1)\n",
        "  else:\n",
        "    monty_pick = DOORS.index('GOAT')\n",
        "  DOORS.pop(monty_pick)\n",
        "\n",
        "  # The last door is defined, where it will be either 'CAR' or 'GOAT'\n",
        "  other_door = DOORS[0]\n",
        "\n",
        "  # Depending on the user strategy input to the function, it will check either\n",
        "  # the first door picked, or the last door that Monty offered.\n",
        "  if STRATEGY == 'first_door' and first_pick == 'CAR':\n",
        "    return 1\n",
        "  elif STRATEGY == 'second_door' and other_door == 'CAR':\n",
        "    return 1\n",
        "  else:\n",
        "    return 0"
      ],
      "execution_count": 85,
      "outputs": []
    },
    {
      "cell_type": "code",
      "metadata": {
        "colab": {
          "base_uri": "https://localhost:8080/"
        },
        "id": "L14eEbsAW7sx",
        "outputId": "8a8e5b68-7248-4210-a5bd-c3aa87aaff64"
      },
      "source": [
        "# Code to run the simulation and log the results\n",
        "\n",
        "# Using simple counters\n",
        "FIRST_DOOR_STRATEGY = 0\n",
        "SECOND_DOOR_STRATEGY = 0\n",
        "\n",
        "# Set the number of simulations to run\n",
        "SIMULATIONS = 1000\n",
        "\n",
        "# For the number of simulations, perform the function for each strategy\n",
        "# This will log each car selected and add it to the running total for that strategy\n",
        "for i in range(SIMULATIONS):\n",
        "  FIRST_DOOR_STRATEGY += monty_hall('first_door')\n",
        "  SECOND_DOOR_STRATEGY += monty_hall('second_door')\n",
        "\n",
        "# Print the results\n",
        "print(f\"Out of {SIMULATIONS} simulations, keeping the first door resulted in {FIRST_DOOR_STRATEGY} cars\")\n",
        "print(f\"And out of {SIMULATIONS} simulations, changing doors resulted in {SECOND_DOOR_STRATEGY} cars\")"
      ],
      "execution_count": 86,
      "outputs": [
        {
          "output_type": "stream",
          "text": [
            "Out of 1000 simulations, keeping the first door resulted in 350 cars\n",
            "And out of 1000 simulations, changing doors resulted in 675 cars\n"
          ],
          "name": "stdout"
        }
      ]
    },
    {
      "cell_type": "code",
      "metadata": {
        "colab": {
          "base_uri": "https://localhost:8080/",
          "height": 302
        },
        "id": "VECsXIFJwmNq",
        "outputId": "d6bfd01b-6363-41bc-ba3e-7cbd909aa736"
      },
      "source": [
        "# Quick visualization of the results\n",
        "\n",
        "fig, ax = plt.subplots(1,2, sharey=True)\n",
        "\n",
        "sns.barplot(x=['Cars', 'Goats'],\n",
        "            y=[FIRST_DOOR_STRATEGY, 1000-FIRST_DOOR_STRATEGY],\n",
        "            ax=ax[0])\n",
        "ax[0].title.set_text(\"First door strategy\")\n",
        "\n",
        "sns.barplot(x=['Cars', 'Goats'],\n",
        "            y=[SECOND_DOOR_STRATEGY, 1000-SECOND_DOOR_STRATEGY],\n",
        "            ax=ax[1])\n",
        "ax[1].title.set_text(\"Change doors strategy\")\n",
        "fig.text(0,0.5,\"Frequency\",va='center',rotation='vertical')\n",
        "fig.text(0.5,0,\"Result behind door\", ha=\"center\")\n",
        "plt.show()"
      ],
      "execution_count": 87,
      "outputs": [
        {
          "output_type": "display_data",
          "data": {
            "image/png": "[encoded data removed]",
            "text/plain": [
              "<Figure size 432x288 with 2 Axes>"
            ]
          },
          "metadata": {
            "tags": [],
            "needs_background": "light"
          }
        }
      ]
    },
    {
      "cell_type": "markdown",
      "metadata": {
        "id": "UtV3v8-LeZy0"
      },
      "source": [
        "Now, we'll proceed to calculate the posterior using Bayes' theory and formula.\n",
        "\n",
        "First, our hypotheses:\n",
        "\n",
        "* *Hypothesis A*: Keeping the first door is more likely to result in a car.\n",
        "* *Hypothesis B*: Changing the door is more likely to result in a car.\n",
        "\n",
        "First, the components of Bayes' formula:\n",
        "\n",
        "* *P(first_door)* = 1/3\n",
        "* *P(second_door)* = 1/3\n",
        "* *P(Car|first_door)* = 367/1000\n",
        "* *P(Car|second_door)* = 662/1000\n",
        "* *P(Goat|first_door)* = 633/1000\n",
        "* *P(Goat|second_door)* = 338/1000\n",
        "\n",
        "Now, we can plug them into Bayes' formula.\n"
      ]
    },
    {
      "cell_type": "code",
      "metadata": {
        "colab": {
          "base_uri": "https://localhost:8080/"
        },
        "id": "yaaU1QjodF0x",
        "outputId": "1a678313-3a89-45d0-a7d0-f02164b83c5e"
      },
      "source": [
        "# Code to run Bayes' formula and determine the probability of the posterior for\n",
        "# each of the two defined hypotheses\n",
        "\n",
        "# There are 3 doors, so the prior probability for each door is 1/3\n",
        "p_first_door = 1/3 \n",
        "p_second_door = 1/3\n",
        "\n",
        "# We've calculated the probability of a car in the last segment\n",
        "p_car_first_door = FIRST_DOOR_STRATEGY/SIMULATIONS\n",
        "p_car_second_door = SECOND_DOOR_STRATEGY/SIMULATIONS\n",
        "\n",
        "# Now we're doing the reverse and getting the probability of a goat in each strategy\n",
        "p_goat_first_door = (SIMULATIONS-FIRST_DOOR_STRATEGY)/SIMULATIONS\n",
        "p_goat_second_door = (SIMULATIONS-SECOND_DOOR_STRATEGY)/SIMULATIONS\n",
        "\n",
        "# Now we will run the Bayes' formula for each hypothesis, calculating the numerator\n",
        "# for the formula for both hypotheses before calculating the posterior\n",
        "\n",
        "# Hypothesis A\n",
        "p_dh_a = (p_car_first_door * p_goat_second_door * p_first_door)\n",
        "\n",
        "# Hypothesis B\n",
        "p_dh_b = (p_car_second_door * p_goat_first_door * p_second_door)\n",
        "\n",
        "# The normalizing constant is the same for both hypotheses\n",
        "p_d = p_dh_a + p_dh_b\n",
        "\n",
        "# Posteriors for both hypotheses\n",
        "posterior_a = p_dh_a / p_d\n",
        "posterior_b = p_dh_b / p_d\n",
        "\n",
        "print(f\"The probability of hypothesis A is {posterior_a:.02f}\")\n",
        "print(f\"The probability of hypothesis B is {posterior_b:.02f}\")"
      ],
      "execution_count": 88,
      "outputs": [
        {
          "output_type": "stream",
          "text": [
            "The probability of hypothesis A is 0.21\n",
            "The probability of hypothesis B is 0.79\n"
          ],
          "name": "stdout"
        }
      ]
    },
    {
      "cell_type": "markdown",
      "metadata": {
        "id": "RtaIQ0yI1Dcx"
      },
      "source": [
        "Based on Bayes' theorem, the probability of selecting a car is significantly greater when you elect a change door strategy and move to the second door. "
      ]
    },
    {
      "cell_type": "code",
      "metadata": {
        "id": "x6xKJ1fY364a"
      },
      "source": [
        ""
      ],
      "execution_count": 88,
      "outputs": []
    }
  ]
}
