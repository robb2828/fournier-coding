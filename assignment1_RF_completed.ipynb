{
  "nbformat": 4,
  "nbformat_minor": 0,
  "metadata": {
    "kernelspec": {
      "display_name": "Python 3",
      "language": "python",
      "name": "python3"
    },
    "language_info": {
      "codemirror_mode": {
        "name": "ipython",
        "version": 3
      },
      "file_extension": ".py",
      "mimetype": "text/x-python",
      "name": "python",
      "nbconvert_exporter": "python",
      "pygments_lexer": "ipython3",
      "version": "3.8.5"
    },
    "colab": {
      "name": "assignment1_RF_completed.ipynb",
      "provenance": [],
      "include_colab_link": true
    }
  },
  "cells": [
    {
      "cell_type": "markdown",
      "metadata": {
        "id": "view-in-github",
        "colab_type": "text"
      },
      "source": [
        "<a href=\"https://colab.research.google.com/github/robb2828/fournier-coding/blob/certificate_work/assignment1_RF_completed.ipynb\" target=\"_parent\"><img src=\"https://colab.research.google.com/assets/colab-badge.svg\" alt=\"Open In Colab\"/></a>"
      ]
    },
    {
      "cell_type": "markdown",
      "metadata": {
        "id": "u7vNDkK5PLVi"
      },
      "source": [
        "## Assignment 1 \n",
        "\n",
        "This assignment is based on the video discussed in module 1.\n",
        "\n",
        "John Rauser ( 2014). Statistics Without the Agonizing Pain. Strata Hadoop 2014. Retrieved from https://www.youtube.com/watch?v=5Dnw46eC-0o\n",
        "\n",
        "(Source: https://www.youtube.com/watch?v=5Dnw46eC-0o )\n",
        "\n",
        "\n",
        "\n",
        "\n",
        " \n",
        "  \n",
        " "
      ]
    },
    {
      "cell_type": "markdown",
      "metadata": {
        "id": "zK27RVdVPLVk"
      },
      "source": [
        "## Learning outcomes"
      ]
    },
    {
      "cell_type": "markdown",
      "metadata": {
        "id": "pd51MwQqPLVl"
      },
      "source": [
        "- Use code to work with data\n",
        "- Calculate basic statistical measures \n",
        "- Implement a data simulation by using resampling \n"
      ]
    },
    {
      "cell_type": "markdown",
      "metadata": {
        "id": "IaIN3f_rPLVl"
      },
      "source": [
        "**Question**\n",
        "\n",
        "1. Using the dataset from the video ( _mosquitos_data.csv_) in the folder, write Python code to:\n",
        "\n",
        "    - Create side-by-side boxplots for the number of mosquitos in each group ( _beer vs water) \n",
        "    - What does the graph reveal about the data for both groups?  Is there an association between beer       consumption and attractiveness to mosquitos.\n",
        "    - Calculate basic statistics measures for each group: Mean, median, standard deviation and explain the numbers.\n",
        "\n",
        "2. Write code to implement the data simulation demonstrated in the above mentioned video.  Calculate the probability of obtaining the experiment outcome assuming no association between beer consumption."
      ]
    },
    {
      "cell_type": "markdown",
      "metadata": {
        "id": "YVtiBIq2PLVl"
      },
      "source": [
        "## Hints\n",
        "\n",
        "- Use pandas, matplotlib, or seaborn to plot boxplots in Python. \n",
        "- Label the graphs wherever applicable e.g, title, legend, units etc.\n",
        "\n",
        "\n",
        "\n"
      ]
    },
    {
      "cell_type": "markdown",
      "metadata": {
        "id": "_lb3sreQ9cxP"
      },
      "source": [
        "# Question 1"
      ]
    },
    {
      "cell_type": "code",
      "metadata": {
        "collapsed": true,
        "colab": {
          "base_uri": "https://localhost:8080/",
          "height": 204
        },
        "id": "MV6kU5G-PLVm",
        "outputId": "2f240d1e-7ac1-4d4c-c57e-28dc42368063"
      },
      "source": [
        "# Importing dependencies\n",
        "import pandas as pd\n",
        "import seaborn as sns\n",
        "import matplotlib.pyplot as plt\n",
        "\n",
        "# Importing the data saved to the local machine into a Pandas DataFrame\n",
        "mosq_df = pd.read_csv(\"mosquitos_data.csv\")\n",
        "mosq_df.head()"
      ],
      "execution_count": 1,
      "outputs": [
        {
          "output_type": "execute_result",
          "data": {
            "text/html": [
              "<div>\n",
              "<style scoped>\n",
              "    .dataframe tbody tr th:only-of-type {\n",
              "        vertical-align: middle;\n",
              "    }\n",
              "\n",
              "    .dataframe tbody tr th {\n",
              "        vertical-align: top;\n",
              "    }\n",
              "\n",
              "    .dataframe thead th {\n",
              "        text-align: right;\n",
              "    }\n",
              "</style>\n",
              "<table border=\"1\" class=\"dataframe\">\n",
              "  <thead>\n",
              "    <tr style=\"text-align: right;\">\n",
              "      <th></th>\n",
              "      <th>Response</th>\n",
              "      <th>Treatment</th>\n",
              "    </tr>\n",
              "  </thead>\n",
              "  <tbody>\n",
              "    <tr>\n",
              "      <th>0</th>\n",
              "      <td>27</td>\n",
              "      <td>Beer</td>\n",
              "    </tr>\n",
              "    <tr>\n",
              "      <th>1</th>\n",
              "      <td>20</td>\n",
              "      <td>Beer</td>\n",
              "    </tr>\n",
              "    <tr>\n",
              "      <th>2</th>\n",
              "      <td>21</td>\n",
              "      <td>Beer</td>\n",
              "    </tr>\n",
              "    <tr>\n",
              "      <th>3</th>\n",
              "      <td>26</td>\n",
              "      <td>Beer</td>\n",
              "    </tr>\n",
              "    <tr>\n",
              "      <th>4</th>\n",
              "      <td>27</td>\n",
              "      <td>Beer</td>\n",
              "    </tr>\n",
              "  </tbody>\n",
              "</table>\n",
              "</div>"
            ],
            "text/plain": [
              "   Response Treatment\n",
              "0        27      Beer\n",
              "1        20      Beer\n",
              "2        21      Beer\n",
              "3        26      Beer\n",
              "4        27      Beer"
            ]
          },
          "metadata": {
            "tags": []
          },
          "execution_count": 1
        }
      ]
    },
    {
      "cell_type": "code",
      "metadata": {
        "colab": {
          "base_uri": "https://localhost:8080/",
          "height": 355
        },
        "id": "5hmVW7kfPrf1",
        "outputId": "7d469c0c-38a4-403d-b51e-d6341fa91997"
      },
      "source": [
        "# Question 1\n",
        "\n",
        "# Run a boxplot method off the Pandas dataframe\n",
        "mosq_df.boxplot(by=\"Treatment\")\n",
        "plt.ylabel(\"Mosquitos caught\")\n",
        "plt.show()"
      ],
      "execution_count": 76,
      "outputs": [
        {
          "output_type": "stream",
          "text": [
            "/usr/local/lib/python3.7/dist-packages/numpy/core/_asarray.py:83: VisibleDeprecationWarning: Creating an ndarray from ragged nested sequences (which is a list-or-tuple of lists-or-tuples-or ndarrays with different lengths or shapes) is deprecated. If you meant to do this, you must specify 'dtype=object' when creating the ndarray\n",
            "  return array(a, dtype, copy=False, order=order)\n"
          ],
          "name": "stderr"
        },
        {
          "output_type": "display_data",
          "data": {
            "image/png": "[encoded data removed]",
            "text/plain": [
              "<Figure size 432x288 with 1 Axes>"
            ]
          },
          "metadata": {
            "tags": [],
            "needs_background": "light"
          }
        }
      ]
    },
    {
      "cell_type": "markdown",
      "metadata": {
        "id": "rzyy35PvRXCM"
      },
      "source": [
        "Based on the boxplot above, there is an positive association between the treatment of beer and the response variable. The control variable of water allows us to identify beer as the explanatory variable in the treatment group that does hold a positive correlation to the response of mosquitos. Therefore, it can be summarized that, according to this data, there is a positive association between beer and attractiveness to mosquitos. "
      ]
    },
    {
      "cell_type": "code",
      "metadata": {
        "colab": {
          "base_uri": "https://localhost:8080/",
          "height": 173
        },
        "id": "PA03DKXbP3DM",
        "outputId": "31589b38-36d9-4979-e969-a9151c167fc8"
      },
      "source": [
        "mosq_df.groupby(\"Treatment\").agg([\"mean\", \"median\", \"std\", \"var\", \"count\"])"
      ],
      "execution_count": 4,
      "outputs": [
        {
          "output_type": "execute_result",
          "data": {
            "text/html": [
              "<div>\n",
              "<style scoped>\n",
              "    .dataframe tbody tr th:only-of-type {\n",
              "        vertical-align: middle;\n",
              "    }\n",
              "\n",
              "    .dataframe tbody tr th {\n",
              "        vertical-align: top;\n",
              "    }\n",
              "\n",
              "    .dataframe thead tr th {\n",
              "        text-align: left;\n",
              "    }\n",
              "\n",
              "    .dataframe thead tr:last-of-type th {\n",
              "        text-align: right;\n",
              "    }\n",
              "</style>\n",
              "<table border=\"1\" class=\"dataframe\">\n",
              "  <thead>\n",
              "    <tr>\n",
              "      <th></th>\n",
              "      <th colspan=\"5\" halign=\"left\">Response</th>\n",
              "    </tr>\n",
              "    <tr>\n",
              "      <th></th>\n",
              "      <th>mean</th>\n",
              "      <th>median</th>\n",
              "      <th>std</th>\n",
              "      <th>var</th>\n",
              "      <th>count</th>\n",
              "    </tr>\n",
              "    <tr>\n",
              "      <th>Treatment</th>\n",
              "      <th></th>\n",
              "      <th></th>\n",
              "      <th></th>\n",
              "      <th></th>\n",
              "      <th></th>\n",
              "    </tr>\n",
              "  </thead>\n",
              "  <tbody>\n",
              "    <tr>\n",
              "      <th>Beer</th>\n",
              "      <td>23.600000</td>\n",
              "      <td>24</td>\n",
              "      <td>4.133199</td>\n",
              "      <td>17.083333</td>\n",
              "      <td>25</td>\n",
              "    </tr>\n",
              "    <tr>\n",
              "      <th>Water</th>\n",
              "      <td>19.222222</td>\n",
              "      <td>20</td>\n",
              "      <td>3.671120</td>\n",
              "      <td>13.477124</td>\n",
              "      <td>18</td>\n",
              "    </tr>\n",
              "  </tbody>\n",
              "</table>\n",
              "</div>"
            ],
            "text/plain": [
              "            Response                                  \n",
              "                mean median       std        var count\n",
              "Treatment                                             \n",
              "Beer       23.600000     24  4.133199  17.083333    25\n",
              "Water      19.222222     20  3.671120  13.477124    18"
            ]
          },
          "metadata": {
            "tags": []
          },
          "execution_count": 4
        }
      ]
    },
    {
      "cell_type": "markdown",
      "metadata": {
        "id": "19mN-5Yd9sDc"
      },
      "source": [
        "The basic statistic measures calculated include:\n",
        "\n",
        "*   **Mean**: this is the average, or the ∑x for x in the dataset divided by n values in the dataset. In other words, the sum of all values divided by the count of values.\n",
        "* **Median**: this is middle value of the dataset, or the ith value where i = n/2. The median provides another method of determining centrality of the dataset and can be used to augment the mean statistic. \n",
        "* **Standard Deviation (std)**: the standard deviation is a statistic representing the extent of deviation from the mean by the whole population or sample. It is the square root of variance. \n",
        "* **Variance**: variance is the measure of how far spread out values are from the mean. It is the sum of differences of values from the mean value divided by n-1 where n is the number of samples.\n",
        "* **Count**: this is pretty straight forward, but allows us to get a view of the number of samples in both treatment groups.\n",
        "\n",
        "In this particular case with the mosquito dataset, we can see the following basic statistics:\n",
        "\n",
        "* **Mean**: 23.6 for beer treatment group and 19.2 for water treatment group. There is a difference of 4.4 between the two treatment groups. \n",
        "* **Median**: 24 for beer treatment group and 20 for water treatment group. As the median is very similar to the mean, we can estimate that the dataset is not very skewed and does not contain many outliers for both treatment groups. There is also a difference of 4 between the medians for both groups.\n",
        "* **Standard Deviation**: the std for beer treatment group is 4.13 and 3.67 for the water treatment group. In this case, both are very similar levels of standard deviation, meaning that on average samples vary by about 4 mosquitos and there's not a significant change in variation for either group.\n",
        "* **Variance**: the variance is 17.08 for beer treatment group and 13.47 for the water treatment group. As the standard deviation is a less prone to outlier version of variance, we can assume this difference is mostly negiglible. \n",
        "* **Count**: 25 for beer treatment group and 18 for water treatment group.\n",
        "\n"
      ]
    },
    {
      "cell_type": "markdown",
      "metadata": {
        "id": "LrbBg7Tv9fZR"
      },
      "source": [
        "# Question 2"
      ]
    },
    {
      "cell_type": "code",
      "metadata": {
        "id": "1W5a1Tqe9gaI"
      },
      "source": [
        "# We'll initiate an empty list to hold the difference in mean between samples\n",
        "plot_points = []\n",
        "\n",
        "# And the first value will be the mean between beer and water groups\n",
        "plot_points.append(float(mosq_df[mosq_df['Treatment'] == 'Beer'].mean() - mosq_df[mosq_df['Treatment'] == 'Water'].mean()))"
      ],
      "execution_count": 62,
      "outputs": []
    },
    {
      "cell_type": "code",
      "metadata": {
        "id": "OvE-tiGhq6VK"
      },
      "source": [
        "# Next we create a for loop to iterate though the runs we'd like to do\n",
        "# Each loop will create a copy of the mosquito df and then sample 18 values and 25 values\n",
        "# and log the mean between the samples into the list we created\n",
        "for i in range(5000):\n",
        "  # Next copy the dataframe\n",
        "  copy_df = mosq_df.copy()\n",
        "  # Then sample 18 values\n",
        "  fake_water_group = copy_df.sample(n=18)\n",
        "  # Remove those 18 values so there's 25 remaining\n",
        "  copy_df.drop(fake_water_group.index,inplace=True)\n",
        "  # And log the difference in mean between the remaining 25 (the fake beer group)\n",
        "  # and the 18 we sampled out (the fake water group)\n",
        "  plot_points.append(float(copy_df.mean() - fake_water_group.mean()))"
      ],
      "execution_count": 63,
      "outputs": []
    },
    {
      "cell_type": "code",
      "metadata": {
        "colab": {
          "base_uri": "https://localhost:8080/",
          "height": 295
        },
        "id": "C4xTFCwjrSUb",
        "outputId": "d27fb741-da8e-4495-bc9d-c078226d1fa4"
      },
      "source": [
        "# Now we'll visualize the distribution by plotting the list\n",
        "sns.histplot(plot_points, bins=7)\n",
        "# And create a red line where the original beer and water difference is located\n",
        "plt.axvline(x=plot_points[0],c='red',label=\"original difference between beer and water\")\n",
        "plt.title(\"Histogram of resampling differences between sample means\")\n",
        "plt.xlabel(\"Difference in sample means\")\n",
        "plt.legend()\n",
        "plt.show()"
      ],
      "execution_count": 75,
      "outputs": [
        {
          "output_type": "display_data",
          "data": {
            "image/png": "[encoded data removed]",
            "text/plain": [
              "<Figure size 432x288 with 1 Axes>"
            ]
          },
          "metadata": {
            "tags": [],
            "needs_background": "light"
          }
        }
      ]
    },
    {
      "cell_type": "code",
      "metadata": {
        "colab": {
          "base_uri": "https://localhost:8080/"
        },
        "id": "a7sC1woXrozy",
        "outputId": "bffc58c9-65ef-4b3c-e8d7-4997e362ecba"
      },
      "source": [
        "# The percentage of differences greater than or equal to the beer and water group\n",
        "greater_than_og = [x for x in plot_points if x >= plot_points[0]]\n",
        "print(f\"Out of {len(plot_points)} resampling, only {len(greater_than_og)} were greater than the original dataset.\")\n",
        "print(f\"That's {len(greater_than_og) / len(plot_points):.02%}\")"
      ],
      "execution_count": 70,
      "outputs": [
        {
          "output_type": "stream",
          "text": [
            "Out of 5001 resampling, only 6 were greater than the original dataset.\n",
            "That's 0.12%\n"
          ],
          "name": "stdout"
        }
      ]
    },
    {
      "cell_type": "markdown",
      "metadata": {
        "id": "FkItQl7cw48f"
      },
      "source": [
        "Based on the above simulation of resampling, there is a 0.12% probability to randomly witness the difference in means demonstrated in the original experiment between beer and water groups."
      ]
    },
    {
      "cell_type": "code",
      "metadata": {
        "id": "fMON5v1LxB_M"
      },
      "source": [
        ""
      ],
      "execution_count": null,
      "outputs": []
    }
  ]
}