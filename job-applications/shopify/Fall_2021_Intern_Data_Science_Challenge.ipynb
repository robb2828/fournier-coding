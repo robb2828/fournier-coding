{
  "nbformat": 4,
  "nbformat_minor": 0,
  "metadata": {
    "colab": {
      "name": "Fall 2021 Intern Data Science Challenge.ipynb",
      "provenance": [],
      "authorship_tag": "ABX9TyPscbbkjdvw3TLU0qzOHCHe",
      "include_colab_link": true
    },
    "kernelspec": {
      "name": "python3",
      "display_name": "Python 3"
    },
    "language_info": {
      "name": "python"
    },
    "accelerator": "GPU"
  },
  "cells": [
    {
      "cell_type": "markdown",
      "metadata": {
        "id": "view-in-github",
        "colab_type": "text"
      },
      "source": [
        "<a href=\"https://colab.research.google.com/github/robb2828/fournier-coding/blob/main/job-applications/shopify/Fall_2021_Intern_Data_Science_Challenge.ipynb\" target=\"_parent\"><img src=\"https://colab.research.google.com/assets/colab-badge.svg\" alt=\"Open In Colab\"/></a>"
      ]
    },
    {
      "cell_type": "markdown",
      "metadata": {
        "id": "x_k971cD91Fz"
      },
      "source": [
        "# Fall 2021 Intern Data Science Challenge\n",
        "\n",
        "Prepared by: Robb Fournier\n",
        "\n",
        "For: Shopify"
      ]
    },
    {
      "cell_type": "markdown",
      "metadata": {
        "id": "e7UqVSqvEplD"
      },
      "source": [
        "## Question 1: Given some sample data, write a program to answer the following: click here to access the required data set\n",
        "\n",
        "On Shopify, we have exactly 100 sneaker shops, and each of these shops sells only one model of shoe. We want to do some analysis of the average order value (AOV). When we look at orders data over a 30 day window, we naively calculate an AOV of $3145.13. Given that we know these shops are selling sneakers, a relatively affordable item, something seems wrong with our analysis. \n",
        "\n",
        "\n",
        "\n",
        "1.   Think about what could be going wrong with our calculation. Think about a better way to evaluate this data. \n",
        "2.   What metric would you report for this dataset?\n",
        "3.   What is its value?\n"
      ]
    },
    {
      "cell_type": "markdown",
      "metadata": {
        "id": "5E6FwM4KFrUF"
      },
      "source": [
        "**Answer:**\n"
      ]
    },
    {
      "cell_type": "code",
      "metadata": {
        "id": "HNZBsKH19-7u",
        "colab": {
          "base_uri": "https://localhost:8080/",
          "height": 204
        },
        "outputId": "70c5867b-32fa-4e21-c0ad-cbac031d6952"
      },
      "source": [
        "# We'll start by importing our pandas library\n",
        "\n",
        "import pandas as pd\n",
        "import matplotlib.pyplot as plt\n",
        "import seaborn as sns\n",
        "\n",
        "# Reading in the data hosted in GitHub, downloaded from this link: https://docs.google.com/spreadsheets/d/16i38oonuX1y1g7C_UAmiK9GkY7cS-64DfiDMNiR41LM/edit#gid=0\n",
        "df_sneakers = pd.read_csv(\"https://raw.githubusercontent.com/robb2828/fournier-coding/main/job-applications/shopify/2019%20Winter%20Data%20Science%20Intern%20Challenge%20Data%20Set%20-%20Sheet1.csv\")\n",
        "df_sneakers.head()"
      ],
      "execution_count": 2,
      "outputs": [
        {
          "output_type": "execute_result",
          "data": {
            "text/html": [
              "<div>\n",
              "<style scoped>\n",
              "    .dataframe tbody tr th:only-of-type {\n",
              "        vertical-align: middle;\n",
              "    }\n",
              "\n",
              "    .dataframe tbody tr th {\n",
              "        vertical-align: top;\n",
              "    }\n",
              "\n",
              "    .dataframe thead th {\n",
              "        text-align: right;\n",
              "    }\n",
              "</style>\n",
              "<table border=\"1\" class=\"dataframe\">\n",
              "  <thead>\n",
              "    <tr style=\"text-align: right;\">\n",
              "      <th></th>\n",
              "      <th>order_id</th>\n",
              "      <th>shop_id</th>\n",
              "      <th>user_id</th>\n",
              "      <th>order_amount</th>\n",
              "      <th>total_items</th>\n",
              "      <th>payment_method</th>\n",
              "      <th>created_at</th>\n",
              "    </tr>\n",
              "  </thead>\n",
              "  <tbody>\n",
              "    <tr>\n",
              "      <th>0</th>\n",
              "      <td>1</td>\n",
              "      <td>53</td>\n",
              "      <td>746</td>\n",
              "      <td>224</td>\n",
              "      <td>2</td>\n",
              "      <td>cash</td>\n",
              "      <td>2017-03-13 12:36:56</td>\n",
              "    </tr>\n",
              "    <tr>\n",
              "      <th>1</th>\n",
              "      <td>2</td>\n",
              "      <td>92</td>\n",
              "      <td>925</td>\n",
              "      <td>90</td>\n",
              "      <td>1</td>\n",
              "      <td>cash</td>\n",
              "      <td>2017-03-03 17:38:52</td>\n",
              "    </tr>\n",
              "    <tr>\n",
              "      <th>2</th>\n",
              "      <td>3</td>\n",
              "      <td>44</td>\n",
              "      <td>861</td>\n",
              "      <td>144</td>\n",
              "      <td>1</td>\n",
              "      <td>cash</td>\n",
              "      <td>2017-03-14 4:23:56</td>\n",
              "    </tr>\n",
              "    <tr>\n",
              "      <th>3</th>\n",
              "      <td>4</td>\n",
              "      <td>18</td>\n",
              "      <td>935</td>\n",
              "      <td>156</td>\n",
              "      <td>1</td>\n",
              "      <td>credit_card</td>\n",
              "      <td>2017-03-26 12:43:37</td>\n",
              "    </tr>\n",
              "    <tr>\n",
              "      <th>4</th>\n",
              "      <td>5</td>\n",
              "      <td>18</td>\n",
              "      <td>883</td>\n",
              "      <td>156</td>\n",
              "      <td>1</td>\n",
              "      <td>credit_card</td>\n",
              "      <td>2017-03-01 4:35:11</td>\n",
              "    </tr>\n",
              "  </tbody>\n",
              "</table>\n",
              "</div>"
            ],
            "text/plain": [
              "   order_id  shop_id  user_id  ...  total_items  payment_method           created_at\n",
              "0         1       53      746  ...            2            cash  2017-03-13 12:36:56\n",
              "1         2       92      925  ...            1            cash  2017-03-03 17:38:52\n",
              "2         3       44      861  ...            1            cash   2017-03-14 4:23:56\n",
              "3         4       18      935  ...            1     credit_card  2017-03-26 12:43:37\n",
              "4         5       18      883  ...            1     credit_card   2017-03-01 4:35:11\n",
              "\n",
              "[5 rows x 7 columns]"
            ]
          },
          "metadata": {
            "tags": []
          },
          "execution_count": 2
        }
      ]
    },
    {
      "cell_type": "code",
      "metadata": {
        "colab": {
          "base_uri": "https://localhost:8080/",
          "height": 297
        },
        "id": "6WJfbkQuDx2Y",
        "outputId": "32f82bce-759c-4481-b3c5-3fac87cc3612"
      },
      "source": [
        "# We'll take a look at the details of the features of the dataset\n",
        "df_sneakers.describe()"
      ],
      "execution_count": 3,
      "outputs": [
        {
          "output_type": "execute_result",
          "data": {
            "text/html": [
              "<div>\n",
              "<style scoped>\n",
              "    .dataframe tbody tr th:only-of-type {\n",
              "        vertical-align: middle;\n",
              "    }\n",
              "\n",
              "    .dataframe tbody tr th {\n",
              "        vertical-align: top;\n",
              "    }\n",
              "\n",
              "    .dataframe thead th {\n",
              "        text-align: right;\n",
              "    }\n",
              "</style>\n",
              "<table border=\"1\" class=\"dataframe\">\n",
              "  <thead>\n",
              "    <tr style=\"text-align: right;\">\n",
              "      <th></th>\n",
              "      <th>order_id</th>\n",
              "      <th>shop_id</th>\n",
              "      <th>user_id</th>\n",
              "      <th>order_amount</th>\n",
              "      <th>total_items</th>\n",
              "    </tr>\n",
              "  </thead>\n",
              "  <tbody>\n",
              "    <tr>\n",
              "      <th>count</th>\n",
              "      <td>5000.000000</td>\n",
              "      <td>5000.000000</td>\n",
              "      <td>5000.000000</td>\n",
              "      <td>5000.000000</td>\n",
              "      <td>5000.00000</td>\n",
              "    </tr>\n",
              "    <tr>\n",
              "      <th>mean</th>\n",
              "      <td>2500.500000</td>\n",
              "      <td>50.078800</td>\n",
              "      <td>849.092400</td>\n",
              "      <td>3145.128000</td>\n",
              "      <td>8.78720</td>\n",
              "    </tr>\n",
              "    <tr>\n",
              "      <th>std</th>\n",
              "      <td>1443.520003</td>\n",
              "      <td>29.006118</td>\n",
              "      <td>87.798982</td>\n",
              "      <td>41282.539349</td>\n",
              "      <td>116.32032</td>\n",
              "    </tr>\n",
              "    <tr>\n",
              "      <th>min</th>\n",
              "      <td>1.000000</td>\n",
              "      <td>1.000000</td>\n",
              "      <td>607.000000</td>\n",
              "      <td>90.000000</td>\n",
              "      <td>1.00000</td>\n",
              "    </tr>\n",
              "    <tr>\n",
              "      <th>25%</th>\n",
              "      <td>1250.750000</td>\n",
              "      <td>24.000000</td>\n",
              "      <td>775.000000</td>\n",
              "      <td>163.000000</td>\n",
              "      <td>1.00000</td>\n",
              "    </tr>\n",
              "    <tr>\n",
              "      <th>50%</th>\n",
              "      <td>2500.500000</td>\n",
              "      <td>50.000000</td>\n",
              "      <td>849.000000</td>\n",
              "      <td>284.000000</td>\n",
              "      <td>2.00000</td>\n",
              "    </tr>\n",
              "    <tr>\n",
              "      <th>75%</th>\n",
              "      <td>3750.250000</td>\n",
              "      <td>75.000000</td>\n",
              "      <td>925.000000</td>\n",
              "      <td>390.000000</td>\n",
              "      <td>3.00000</td>\n",
              "    </tr>\n",
              "    <tr>\n",
              "      <th>max</th>\n",
              "      <td>5000.000000</td>\n",
              "      <td>100.000000</td>\n",
              "      <td>999.000000</td>\n",
              "      <td>704000.000000</td>\n",
              "      <td>2000.00000</td>\n",
              "    </tr>\n",
              "  </tbody>\n",
              "</table>\n",
              "</div>"
            ],
            "text/plain": [
              "          order_id      shop_id      user_id   order_amount  total_items\n",
              "count  5000.000000  5000.000000  5000.000000    5000.000000   5000.00000\n",
              "mean   2500.500000    50.078800   849.092400    3145.128000      8.78720\n",
              "std    1443.520003    29.006118    87.798982   41282.539349    116.32032\n",
              "min       1.000000     1.000000   607.000000      90.000000      1.00000\n",
              "25%    1250.750000    24.000000   775.000000     163.000000      1.00000\n",
              "50%    2500.500000    50.000000   849.000000     284.000000      2.00000\n",
              "75%    3750.250000    75.000000   925.000000     390.000000      3.00000\n",
              "max    5000.000000   100.000000   999.000000  704000.000000   2000.00000"
            ]
          },
          "metadata": {
            "tags": []
          },
          "execution_count": 3
        }
      ]
    },
    {
      "cell_type": "markdown",
      "metadata": {
        "id": "UYtqSGP6FzTJ"
      },
      "source": [
        "It's clear that the issue is outliers affecting the average sales, there is a very high standard deviation and maximum order amount. The standard deviation is many times greater than the mean.\n",
        "\n",
        "Given our domain knowledge -- specifically that most orders do not contain a large number of items -- we can safely assume these bulk orders are skewing the data. \n",
        "\n",
        "A potential remedy is outlier treatment. In this case, we could remove data points in the 95% percentiles of the distribution -- that is 2 standard deviations away from the mean."
      ]
    },
    {
      "cell_type": "code",
      "metadata": {
        "id": "ptKa4bbYF7Jc",
        "outputId": "ea7e8a74-7f13-4d59-d3fc-046f5964462a",
        "colab": {
          "base_uri": "https://localhost:8080/",
          "height": 314
        }
      },
      "source": [
        "ORDER_AMT_THRESHOLD = df_sneakers['order_amount'].mean() + (\n",
        "    df_sneakers['order_amount'].std() * 2\n",
        ")\n",
        "\n",
        "df_sneakers_outlier_treatment = df_sneakers[df_sneakers['order_amount'] < ORDER_AMT_THRESHOLD]\n",
        "\n",
        "print(f\"Outlier treatment removed {len(df_sneakers) - len(df_sneakers_outlier_treatment)} records\")\n",
        "\n",
        "df_sneakers_outlier_treatment.describe()"
      ],
      "execution_count": 13,
      "outputs": [
        {
          "output_type": "stream",
          "text": [
            "Outlier treatment removed 19 records\n"
          ],
          "name": "stdout"
        },
        {
          "output_type": "execute_result",
          "data": {
            "text/html": [
              "<div>\n",
              "<style scoped>\n",
              "    .dataframe tbody tr th:only-of-type {\n",
              "        vertical-align: middle;\n",
              "    }\n",
              "\n",
              "    .dataframe tbody tr th {\n",
              "        vertical-align: top;\n",
              "    }\n",
              "\n",
              "    .dataframe thead th {\n",
              "        text-align: right;\n",
              "    }\n",
              "</style>\n",
              "<table border=\"1\" class=\"dataframe\">\n",
              "  <thead>\n",
              "    <tr style=\"text-align: right;\">\n",
              "      <th></th>\n",
              "      <th>order_id</th>\n",
              "      <th>shop_id</th>\n",
              "      <th>user_id</th>\n",
              "      <th>order_amount</th>\n",
              "      <th>total_items</th>\n",
              "    </tr>\n",
              "  </thead>\n",
              "  <tbody>\n",
              "    <tr>\n",
              "      <th>count</th>\n",
              "      <td>4981.000000</td>\n",
              "      <td>4981.000000</td>\n",
              "      <td>4981.000000</td>\n",
              "      <td>4981.000000</td>\n",
              "      <td>4981.000000</td>\n",
              "    </tr>\n",
              "    <tr>\n",
              "      <th>mean</th>\n",
              "      <td>2501.425216</td>\n",
              "      <td>50.095162</td>\n",
              "      <td>849.915880</td>\n",
              "      <td>702.748444</td>\n",
              "      <td>1.992773</td>\n",
              "    </tr>\n",
              "    <tr>\n",
              "      <th>std</th>\n",
              "      <td>1443.152284</td>\n",
              "      <td>29.052172</td>\n",
              "      <td>86.816531</td>\n",
              "      <td>4627.726634</td>\n",
              "      <td>0.981326</td>\n",
              "    </tr>\n",
              "    <tr>\n",
              "      <th>min</th>\n",
              "      <td>1.000000</td>\n",
              "      <td>1.000000</td>\n",
              "      <td>700.000000</td>\n",
              "      <td>90.000000</td>\n",
              "      <td>1.000000</td>\n",
              "    </tr>\n",
              "    <tr>\n",
              "      <th>25%</th>\n",
              "      <td>1251.000000</td>\n",
              "      <td>24.000000</td>\n",
              "      <td>776.000000</td>\n",
              "      <td>163.000000</td>\n",
              "      <td>1.000000</td>\n",
              "    </tr>\n",
              "    <tr>\n",
              "      <th>50%</th>\n",
              "      <td>2503.000000</td>\n",
              "      <td>50.000000</td>\n",
              "      <td>850.000000</td>\n",
              "      <td>284.000000</td>\n",
              "      <td>2.000000</td>\n",
              "    </tr>\n",
              "    <tr>\n",
              "      <th>75%</th>\n",
              "      <td>3751.000000</td>\n",
              "      <td>75.000000</td>\n",
              "      <td>925.000000</td>\n",
              "      <td>390.000000</td>\n",
              "      <td>3.000000</td>\n",
              "    </tr>\n",
              "    <tr>\n",
              "      <th>max</th>\n",
              "      <td>5000.000000</td>\n",
              "      <td>100.000000</td>\n",
              "      <td>999.000000</td>\n",
              "      <td>77175.000000</td>\n",
              "      <td>8.000000</td>\n",
              "    </tr>\n",
              "  </tbody>\n",
              "</table>\n",
              "</div>"
            ],
            "text/plain": [
              "          order_id      shop_id      user_id  order_amount  total_items\n",
              "count  4981.000000  4981.000000  4981.000000   4981.000000  4981.000000\n",
              "mean   2501.425216    50.095162   849.915880    702.748444     1.992773\n",
              "std    1443.152284    29.052172    86.816531   4627.726634     0.981326\n",
              "min       1.000000     1.000000   700.000000     90.000000     1.000000\n",
              "25%    1251.000000    24.000000   776.000000    163.000000     1.000000\n",
              "50%    2503.000000    50.000000   850.000000    284.000000     2.000000\n",
              "75%    3751.000000    75.000000   925.000000    390.000000     3.000000\n",
              "max    5000.000000   100.000000   999.000000  77175.000000     8.000000"
            ]
          },
          "metadata": {
            "tags": []
          },
          "execution_count": 13
        }
      ]
    },
    {
      "cell_type": "markdown",
      "metadata": {
        "id": "IlK7BQGSZfuA"
      },
      "source": [
        "The result is still skewed from expectations, although certainly better than the prior results. The average is now $702.75 over the 30 days. But, once again, our average is significantly less than our standard deviation. Clearly this dataset has several large records that make up more than 5% of the total dataset.\n",
        "\n",
        "The approach can instead to be to focus on a new metric that better captures the middle of a skewed dataset: the median. "
      ]
    },
    {
      "cell_type": "code",
      "metadata": {
        "id": "CSoDBeNAZ0Du",
        "outputId": "5036807f-3ec1-4df0-fcbe-a1ac557c2fe0",
        "colab": {
          "base_uri": "https://localhost:8080/"
        }
      },
      "source": [
        "print(df_sneakers.median())"
      ],
      "execution_count": 16,
      "outputs": [
        {
          "output_type": "stream",
          "text": [
            "order_id        2500.5\n",
            "shop_id           50.0\n",
            "user_id          849.0\n",
            "order_amount     284.0\n",
            "total_items        2.0\n",
            "dtype: float64\n"
          ],
          "name": "stdout"
        }
      ]
    },
    {
      "cell_type": "markdown",
      "metadata": {
        "id": "NXacXSl5aLll"
      },
      "source": [
        "The median values for the dataset provide a much better idea of where most orders lie. This can be visualized below."
      ]
    },
    {
      "cell_type": "code",
      "metadata": {
        "id": "M7qKhsIkZ9tx",
        "outputId": "779a832c-ace9-4a38-f7d3-ec46ddc165b1",
        "colab": {
          "base_uri": "https://localhost:8080/",
          "height": 369
        }
      },
      "source": [
        "sns.displot(data=df_sneakers, x='order_amount', log_scale=True, kind='kde')\n",
        "plt.axvline(x=df_sneakers['order_amount'].median(), c='red', label='Median')\n",
        "plt.axvline(x=df_sneakers['order_amount'].mean(), c='orange', label='Mean')\n",
        "plt.legend()\n",
        "plt.show()"
      ],
      "execution_count": 52,
      "outputs": [
        {
          "output_type": "display_data",
          "data": {
            "image/png": "[encoded data removed]",
            "text/plain": [
              "<Figure size 360x360 with 1 Axes>"
            ]
          },
          "metadata": {
            "tags": [],
            "needs_background": "light"
          }
        }
      ]
    },
    {
      "cell_type": "markdown",
      "metadata": {
        "id": "7NRU1ozOgpVn"
      },
      "source": [
        "Based on this analysis, I would recommend using the average order median as the metric for best capturing the sales of the month. **The average order median for March 2017 was $284.**"
      ]
    },
    {
      "cell_type": "markdown",
      "metadata": {
        "id": "pL17fytshaPC"
      },
      "source": [
        "## Question 2: For this question you’ll need to use SQL. Follow this link to access the data set required for the challenge. Please use queries to answer the following questions. Paste your queries along with your final numerical answers below.\n",
        "\n",
        "\n",
        "\n",
        "1.   How many orders were shipped by Speedy Express in total?\n",
        "2.   What is the last name of the employee with the most orders?\n",
        "3.   What product was ordered the most by customers in Germany?\n",
        "\n",
        "\n",
        "\n",
        "\n"
      ]
    },
    {
      "cell_type": "markdown",
      "metadata": {
        "id": "wpXqSMneic1h"
      },
      "source": [
        "**How many orders were shipped by Speedy Express in total?**\n",
        "\n",
        "```\n",
        "SELECT count(distinct(OrderID)) FROM [OrderDetails]\n",
        "```\n",
        "```\n",
        "196\n",
        "```\n"
      ]
    },
    {
      "cell_type": "markdown",
      "metadata": {
        "id": "61dJTawyiyWz"
      },
      "source": [
        "**What is the last name of the employee with the most orders?**\n",
        "\n",
        "```\n",
        "SELECT count(OrderID), LastName FROM Orders JOIN Employees ON Orders.EmployeeID=Employees.EmployeeID GROUP BY LastName ORDER BY count(OrderID) DESC LIMIT 1\n",
        "```\n",
        "```\n",
        "40\tPeacock\n",
        "```"
      ]
    },
    {
      "cell_type": "markdown",
      "metadata": {
        "id": "103vuwUKlkzK"
      },
      "source": [
        "**What product was ordered the most by customers in Germany?**\n",
        "\n",
        "```\n",
        "SELECT count(Orders.OrderID), ProductID FROM [Customers] JOIN [Orders] ON Customers.CustomerID=Orders.CustomerID JOIN [OrderDetails] ON Orders.OrderID=OrderDetails.OrderID WHERE Country = \"Germany\" GROUP BY ProductID ORDER BY count(Orders.OrderID) DESC LIMIT 1\n",
        "```\n",
        "```\n",
        "5\t31\n",
        "```"
      ]
    }
  ]
}