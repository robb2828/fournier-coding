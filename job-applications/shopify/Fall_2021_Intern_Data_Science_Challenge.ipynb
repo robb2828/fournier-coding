{
  "nbformat": 4,
  "nbformat_minor": 0,
  "metadata": {
    "colab": {
      "name": "Fall 2021 Intern Data Science Challenge.ipynb",
      "provenance": [],
      "authorship_tag": "ABX9TyNk+0g4edquuCZF6r7UEGr8",
      "include_colab_link": true
    },
    "kernelspec": {
      "name": "python3",
      "display_name": "Python 3"
    },
    "language_info": {
      "name": "python"
    }
  },
  "cells": [
    {
      "cell_type": "markdown",
      "metadata": {
        "id": "view-in-github",
        "colab_type": "text"
      },
      "source": [
        "<a href=\"https://colab.research.google.com/github/robb2828/fournier-coding/blob/main/Fall_2021_Intern_Data_Science_Challenge.ipynb\" target=\"_parent\"><img src=\"https://colab.research.google.com/assets/colab-badge.svg\" alt=\"Open In Colab\"/></a>"
      ]
    },
    {
      "cell_type": "markdown",
      "metadata": {
        "id": "x_k971cD91Fz"
      },
      "source": [
        "# Fall 2021 Intern Data Science Challenge\n",
        "\n",
        "Prepared by: Robb Fournier\n",
        "\n",
        "For: Shopify"
      ]
    },
    {
      "cell_type": "code",
      "metadata": {
        "id": "HNZBsKH19-7u"
      },
      "source": [
        ""
      ],
      "execution_count": null,
      "outputs": []
    }
  ]
}
